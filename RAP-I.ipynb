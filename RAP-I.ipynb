{
 "cells": [
  {
   "cell_type": "markdown",
   "id": "7d50c80f-b5ec-4c1b-bbac-519c94efc352",
   "metadata": {},
   "source": [
    "# Project 1 | Retention Analysis Case Study\n",
    "-------------------------------------------------------------------------\n",
    "### Task 1 _ Data Quality Check :\n",
    "1. Do you have all the relevant fields in the raw data file given to you?\n"
   ]
  },
  {
   "cell_type": "code",
   "execution_count": 20,
   "id": "af61af1a-d18a-43e0-9b94-fd06b3c62f39",
   "metadata": {},
   "outputs": [],
   "source": [
    "import csv\n",
    "import json\n",
    "import matplotlib.pyplot as plt\n",
    "import pandas as pd\n",
    "import numpy as np\n",
    "json_data_file = open('retention.json')\n",
    "rda = json.load(json_data_file) #rda - retention data analysis\n",
    "json_data_file.close()"
   ]
  },
  {
   "cell_type": "code",
   "execution_count": 22,
   "id": "b60f8dfe-8c8f-4a94-ae5f-5fac68324967",
   "metadata": {},
   "outputs": [
    {
     "data": {
      "text/plain": [
       "dict"
      ]
     },
     "execution_count": 22,
     "metadata": {},
     "output_type": "execute_result"
    }
   ],
   "source": [
    "type(rda)"
   ]
  },
  {
   "cell_type": "code",
   "execution_count": 25,
   "id": "3f68c917-aab4-405b-bcea-42de7589d36a",
   "metadata": {},
   "outputs": [],
   "source": [
    "rvl = list(rda.values()) #rvl - retention value list"
   ]
  },
  {
   "cell_type": "code",
   "execution_count": 26,
   "id": "2a83f379-722d-41eb-a472-12fd9973a65c",
   "metadata": {},
   "outputs": [
    {
     "data": {
      "text/plain": [
       "{'gender': 'M',\n",
       " 'age': '21 years',\n",
       " 'gross_income': '$ 79070.91',\n",
       " 'segment': 'Individuals',\n",
       " 'num_credit_cards': 0,\n",
       " 'tiprel_1mes': 'I',\n",
       " 'ind_actividad_cliente': 0,\n",
       " 'num_Products': 1,\n",
       " 'num_loans': 0,\n",
       " 'duration': 1035}"
      ]
     },
     "execution_count": 26,
     "metadata": {},
     "output_type": "execute_result"
    }
   ],
   "source": [
    "rvl[0]"
   ]
  },
  {
   "cell_type": "code",
   "execution_count": 30,
   "id": "9dd8eb91-f6d8-418f-9a25-9e0369da2a87",
   "metadata": {},
   "outputs": [],
   "source": [
    "variable_names= list(rvl[0].keys())"
   ]
  },
  {
   "cell_type": "code",
   "execution_count": 31,
   "id": "a8e79e9a-a26b-4066-b4d1-0a0a40b56170",
   "metadata": {},
   "outputs": [
    {
     "data": {
      "text/plain": [
       "['gender',\n",
       " 'age',\n",
       " 'gross_income',\n",
       " 'segment',\n",
       " 'num_credit_cards',\n",
       " 'tiprel_1mes',\n",
       " 'ind_actividad_cliente',\n",
       " 'num_Products',\n",
       " 'num_loans',\n",
       " 'duration']"
      ]
     },
     "execution_count": 31,
     "metadata": {},
     "output_type": "execute_result"
    }
   ],
   "source": [
    "variable_names"
   ]
  },
  {
   "cell_type": "markdown",
   "id": "47d35e54-eae6-415d-ab1d-1a300054c6fe",
   "metadata": {},
   "source": [
    "# Task 1.2 _ Convertion of \"json data file\" to a \"csv file\" :"
   ]
  },
  {
   "cell_type": "code",
   "execution_count": 34,
   "id": "1ade3d7d-1d29-447b-a47c-037d2396d11c",
   "metadata": {},
   "outputs": [],
   "source": [
    "with open('rda.csv', 'w') as csvfile:\n",
    "    writer = csv.DictWriter(csvfile, fieldnames=variable_names)\n",
    "    writer.writeheader()\n",
    "    writer.writerows(rvl)"
   ]
  },
  {
   "cell_type": "code",
   "execution_count": 35,
   "id": "5154ba4d-9864-44f6-a970-1f11a0d6f567",
   "metadata": {},
   "outputs": [],
   "source": [
    "rda_dataframe = pd.read_csv('rda.csv')"
   ]
  },
  {
   "cell_type": "code",
   "execution_count": 36,
   "id": "155bd5bf-2f92-43ed-8f4b-9edaff11127c",
   "metadata": {},
   "outputs": [
    {
     "data": {
      "text/html": [
       "<div>\n",
       "<style scoped>\n",
       "    .dataframe tbody tr th:only-of-type {\n",
       "        vertical-align: middle;\n",
       "    }\n",
       "\n",
       "    .dataframe tbody tr th {\n",
       "        vertical-align: top;\n",
       "    }\n",
       "\n",
       "    .dataframe thead th {\n",
       "        text-align: right;\n",
       "    }\n",
       "</style>\n",
       "<table border=\"1\" class=\"dataframe\">\n",
       "  <thead>\n",
       "    <tr style=\"text-align: right;\">\n",
       "      <th></th>\n",
       "      <th>gender</th>\n",
       "      <th>age</th>\n",
       "      <th>gross_income</th>\n",
       "      <th>segment</th>\n",
       "      <th>num_credit_cards</th>\n",
       "      <th>tiprel_1mes</th>\n",
       "      <th>ind_actividad_cliente</th>\n",
       "      <th>num_Products</th>\n",
       "      <th>num_loans</th>\n",
       "      <th>duration</th>\n",
       "    </tr>\n",
       "  </thead>\n",
       "  <tbody>\n",
       "    <tr>\n",
       "      <th>0</th>\n",
       "      <td>M</td>\n",
       "      <td>21 years</td>\n",
       "      <td>$ 79070.91</td>\n",
       "      <td>Individuals</td>\n",
       "      <td>0</td>\n",
       "      <td>I</td>\n",
       "      <td>0</td>\n",
       "      <td>1</td>\n",
       "      <td>0</td>\n",
       "      <td>1035</td>\n",
       "    </tr>\n",
       "    <tr>\n",
       "      <th>1</th>\n",
       "      <td>M</td>\n",
       "      <td>23 years</td>\n",
       "      <td>$ 178270.68</td>\n",
       "      <td>College_Graduated</td>\n",
       "      <td>0</td>\n",
       "      <td>I</td>\n",
       "      <td>0</td>\n",
       "      <td>1</td>\n",
       "      <td>0</td>\n",
       "      <td>1097</td>\n",
       "    </tr>\n",
       "    <tr>\n",
       "      <th>2</th>\n",
       "      <td>M</td>\n",
       "      <td>24 years</td>\n",
       "      <td>$ 31243.56</td>\n",
       "      <td>College_Graduated</td>\n",
       "      <td>0</td>\n",
       "      <td>I</td>\n",
       "      <td>1</td>\n",
       "      <td>1</td>\n",
       "      <td>0</td>\n",
       "      <td>1866</td>\n",
       "    </tr>\n",
       "    <tr>\n",
       "      <th>3</th>\n",
       "      <td>M</td>\n",
       "      <td>24 years</td>\n",
       "      <td>$ 130740.54</td>\n",
       "      <td>College_Graduated</td>\n",
       "      <td>0</td>\n",
       "      <td>I</td>\n",
       "      <td>0</td>\n",
       "      <td>1</td>\n",
       "      <td>0</td>\n",
       "      <td>1440</td>\n",
       "    </tr>\n",
       "    <tr>\n",
       "      <th>4</th>\n",
       "      <td>M</td>\n",
       "      <td>31 years</td>\n",
       "      <td>$ 112975.17</td>\n",
       "      <td>Individuals</td>\n",
       "      <td>0</td>\n",
       "      <td>I</td>\n",
       "      <td>0</td>\n",
       "      <td>0</td>\n",
       "      <td>0</td>\n",
       "      <td>376</td>\n",
       "    </tr>\n",
       "  </tbody>\n",
       "</table>\n",
       "</div>"
      ],
      "text/plain": [
       "  gender       age gross_income            segment  num_credit_cards  \\\n",
       "0      M  21 years   $ 79070.91        Individuals                 0   \n",
       "1      M  23 years  $ 178270.68  College_Graduated                 0   \n",
       "2      M  24 years   $ 31243.56  College_Graduated                 0   \n",
       "3      M  24 years  $ 130740.54  College_Graduated                 0   \n",
       "4      M  31 years  $ 112975.17        Individuals                 0   \n",
       "\n",
       "  tiprel_1mes  ind_actividad_cliente  num_Products  num_loans  duration  \n",
       "0           I                      0             1          0      1035  \n",
       "1           I                      0             1          0      1097  \n",
       "2           I                      1             1          0      1866  \n",
       "3           I                      0             1          0      1440  \n",
       "4           I                      0             0          0       376  "
      ]
     },
     "execution_count": 36,
     "metadata": {},
     "output_type": "execute_result"
    }
   ],
   "source": [
    "rda_dataframe.head()"
   ]
  },
  {
   "cell_type": "code",
   "execution_count": 37,
   "id": "2b34dabb-4760-43dc-9624-b8f3745cc6e6",
   "metadata": {},
   "outputs": [],
   "source": [
    "rda_dataframe_cleaned = rda_dataframe.copy(deep=True)"
   ]
  },
  {
   "cell_type": "markdown",
   "id": "bdd6ff75-47a3-42b5-88b7-626504468a32",
   "metadata": {},
   "source": [
    "# Task 1.4 - a & b _ Cleaning age and gross_income columns:\n",
    "- Converting them to numeric type "
   ]
  },
  {
   "cell_type": "code",
   "execution_count": 38,
   "id": "77c30a02-2b7f-4103-a7ab-ea494f890793",
   "metadata": {},
   "outputs": [],
   "source": [
    "rda_dataframe_cleaned['age'] = rda_dataframe_cleaned['age'].apply(lambda x: int(x.split(\" \")[0]))"
   ]
  },
  {
   "cell_type": "code",
   "execution_count": 39,
   "id": "35feeb2f-acf6-4475-88f7-490f1ab77b28",
   "metadata": {},
   "outputs": [
    {
     "data": {
      "text/html": [
       "<div>\n",
       "<style scoped>\n",
       "    .dataframe tbody tr th:only-of-type {\n",
       "        vertical-align: middle;\n",
       "    }\n",
       "\n",
       "    .dataframe tbody tr th {\n",
       "        vertical-align: top;\n",
       "    }\n",
       "\n",
       "    .dataframe thead th {\n",
       "        text-align: right;\n",
       "    }\n",
       "</style>\n",
       "<table border=\"1\" class=\"dataframe\">\n",
       "  <thead>\n",
       "    <tr style=\"text-align: right;\">\n",
       "      <th></th>\n",
       "      <th>gender</th>\n",
       "      <th>age</th>\n",
       "      <th>gross_income</th>\n",
       "      <th>segment</th>\n",
       "      <th>num_credit_cards</th>\n",
       "      <th>tiprel_1mes</th>\n",
       "      <th>ind_actividad_cliente</th>\n",
       "      <th>num_Products</th>\n",
       "      <th>num_loans</th>\n",
       "      <th>duration</th>\n",
       "    </tr>\n",
       "  </thead>\n",
       "  <tbody>\n",
       "    <tr>\n",
       "      <th>0</th>\n",
       "      <td>M</td>\n",
       "      <td>21</td>\n",
       "      <td>$ 79070.91</td>\n",
       "      <td>Individuals</td>\n",
       "      <td>0</td>\n",
       "      <td>I</td>\n",
       "      <td>0</td>\n",
       "      <td>1</td>\n",
       "      <td>0</td>\n",
       "      <td>1035</td>\n",
       "    </tr>\n",
       "    <tr>\n",
       "      <th>1</th>\n",
       "      <td>M</td>\n",
       "      <td>23</td>\n",
       "      <td>$ 178270.68</td>\n",
       "      <td>College_Graduated</td>\n",
       "      <td>0</td>\n",
       "      <td>I</td>\n",
       "      <td>0</td>\n",
       "      <td>1</td>\n",
       "      <td>0</td>\n",
       "      <td>1097</td>\n",
       "    </tr>\n",
       "    <tr>\n",
       "      <th>2</th>\n",
       "      <td>M</td>\n",
       "      <td>24</td>\n",
       "      <td>$ 31243.56</td>\n",
       "      <td>College_Graduated</td>\n",
       "      <td>0</td>\n",
       "      <td>I</td>\n",
       "      <td>1</td>\n",
       "      <td>1</td>\n",
       "      <td>0</td>\n",
       "      <td>1866</td>\n",
       "    </tr>\n",
       "    <tr>\n",
       "      <th>3</th>\n",
       "      <td>M</td>\n",
       "      <td>24</td>\n",
       "      <td>$ 130740.54</td>\n",
       "      <td>College_Graduated</td>\n",
       "      <td>0</td>\n",
       "      <td>I</td>\n",
       "      <td>0</td>\n",
       "      <td>1</td>\n",
       "      <td>0</td>\n",
       "      <td>1440</td>\n",
       "    </tr>\n",
       "    <tr>\n",
       "      <th>4</th>\n",
       "      <td>M</td>\n",
       "      <td>31</td>\n",
       "      <td>$ 112975.17</td>\n",
       "      <td>Individuals</td>\n",
       "      <td>0</td>\n",
       "      <td>I</td>\n",
       "      <td>0</td>\n",
       "      <td>0</td>\n",
       "      <td>0</td>\n",
       "      <td>376</td>\n",
       "    </tr>\n",
       "  </tbody>\n",
       "</table>\n",
       "</div>"
      ],
      "text/plain": [
       "  gender  age gross_income            segment  num_credit_cards tiprel_1mes  \\\n",
       "0      M   21   $ 79070.91        Individuals                 0           I   \n",
       "1      M   23  $ 178270.68  College_Graduated                 0           I   \n",
       "2      M   24   $ 31243.56  College_Graduated                 0           I   \n",
       "3      M   24  $ 130740.54  College_Graduated                 0           I   \n",
       "4      M   31  $ 112975.17        Individuals                 0           I   \n",
       "\n",
       "   ind_actividad_cliente  num_Products  num_loans  duration  \n",
       "0                      0             1          0      1035  \n",
       "1                      0             1          0      1097  \n",
       "2                      1             1          0      1866  \n",
       "3                      0             1          0      1440  \n",
       "4                      0             0          0       376  "
      ]
     },
     "execution_count": 39,
     "metadata": {},
     "output_type": "execute_result"
    }
   ],
   "source": [
    "rda_dataframe_cleaned.head()"
   ]
  },
  {
   "cell_type": "code",
   "execution_count": 40,
   "id": "a0d380ee-dc81-4c23-a95f-1cb955c73253",
   "metadata": {},
   "outputs": [],
   "source": [
    "rda_dataframe_cleaned['gross_income'] = rda_dataframe_cleaned['gross_income'].apply(lambda x: float(x.split(\" \")[1]))"
   ]
  },
  {
   "cell_type": "code",
   "execution_count": 41,
   "id": "f6d2412b-78c5-470a-8404-4eab7e6ec6e0",
   "metadata": {},
   "outputs": [
    {
     "data": {
      "text/html": [
       "<div>\n",
       "<style scoped>\n",
       "    .dataframe tbody tr th:only-of-type {\n",
       "        vertical-align: middle;\n",
       "    }\n",
       "\n",
       "    .dataframe tbody tr th {\n",
       "        vertical-align: top;\n",
       "    }\n",
       "\n",
       "    .dataframe thead th {\n",
       "        text-align: right;\n",
       "    }\n",
       "</style>\n",
       "<table border=\"1\" class=\"dataframe\">\n",
       "  <thead>\n",
       "    <tr style=\"text-align: right;\">\n",
       "      <th></th>\n",
       "      <th>gender</th>\n",
       "      <th>age</th>\n",
       "      <th>gross_income</th>\n",
       "      <th>segment</th>\n",
       "      <th>num_credit_cards</th>\n",
       "      <th>tiprel_1mes</th>\n",
       "      <th>ind_actividad_cliente</th>\n",
       "      <th>num_Products</th>\n",
       "      <th>num_loans</th>\n",
       "      <th>duration</th>\n",
       "    </tr>\n",
       "  </thead>\n",
       "  <tbody>\n",
       "    <tr>\n",
       "      <th>0</th>\n",
       "      <td>M</td>\n",
       "      <td>21</td>\n",
       "      <td>79070.91</td>\n",
       "      <td>Individuals</td>\n",
       "      <td>0</td>\n",
       "      <td>I</td>\n",
       "      <td>0</td>\n",
       "      <td>1</td>\n",
       "      <td>0</td>\n",
       "      <td>1035</td>\n",
       "    </tr>\n",
       "    <tr>\n",
       "      <th>1</th>\n",
       "      <td>M</td>\n",
       "      <td>23</td>\n",
       "      <td>178270.68</td>\n",
       "      <td>College_Graduated</td>\n",
       "      <td>0</td>\n",
       "      <td>I</td>\n",
       "      <td>0</td>\n",
       "      <td>1</td>\n",
       "      <td>0</td>\n",
       "      <td>1097</td>\n",
       "    </tr>\n",
       "    <tr>\n",
       "      <th>2</th>\n",
       "      <td>M</td>\n",
       "      <td>24</td>\n",
       "      <td>31243.56</td>\n",
       "      <td>College_Graduated</td>\n",
       "      <td>0</td>\n",
       "      <td>I</td>\n",
       "      <td>1</td>\n",
       "      <td>1</td>\n",
       "      <td>0</td>\n",
       "      <td>1866</td>\n",
       "    </tr>\n",
       "    <tr>\n",
       "      <th>3</th>\n",
       "      <td>M</td>\n",
       "      <td>24</td>\n",
       "      <td>130740.54</td>\n",
       "      <td>College_Graduated</td>\n",
       "      <td>0</td>\n",
       "      <td>I</td>\n",
       "      <td>0</td>\n",
       "      <td>1</td>\n",
       "      <td>0</td>\n",
       "      <td>1440</td>\n",
       "    </tr>\n",
       "    <tr>\n",
       "      <th>4</th>\n",
       "      <td>M</td>\n",
       "      <td>31</td>\n",
       "      <td>112975.17</td>\n",
       "      <td>Individuals</td>\n",
       "      <td>0</td>\n",
       "      <td>I</td>\n",
       "      <td>0</td>\n",
       "      <td>0</td>\n",
       "      <td>0</td>\n",
       "      <td>376</td>\n",
       "    </tr>\n",
       "  </tbody>\n",
       "</table>\n",
       "</div>"
      ],
      "text/plain": [
       "  gender  age  gross_income            segment  num_credit_cards tiprel_1mes  \\\n",
       "0      M   21      79070.91        Individuals                 0           I   \n",
       "1      M   23     178270.68  College_Graduated                 0           I   \n",
       "2      M   24      31243.56  College_Graduated                 0           I   \n",
       "3      M   24     130740.54  College_Graduated                 0           I   \n",
       "4      M   31     112975.17        Individuals                 0           I   \n",
       "\n",
       "   ind_actividad_cliente  num_Products  num_loans  duration  \n",
       "0                      0             1          0      1035  \n",
       "1                      0             1          0      1097  \n",
       "2                      1             1          0      1866  \n",
       "3                      0             1          0      1440  \n",
       "4                      0             0          0       376  "
      ]
     },
     "execution_count": 41,
     "metadata": {},
     "output_type": "execute_result"
    }
   ],
   "source": [
    "rda_dataframe_cleaned.head()"
   ]
  },
  {
   "cell_type": "markdown",
   "id": "f43aac9c-ae85-4725-9d1d-f8e56ebb624e",
   "metadata": {},
   "source": [
    "# Tasks 1.3 - a _ Identify data type of each variable:"
   ]
  },
  {
   "cell_type": "code",
   "execution_count": 42,
   "id": "76e7ab58-c3dd-49e9-b91c-d9ce7a8c1918",
   "metadata": {},
   "outputs": [
    {
     "name": "stdout",
     "output_type": "stream",
     "text": [
      "<class 'pandas.core.frame.DataFrame'>\n",
      "RangeIndex: 54030 entries, 0 to 54029\n",
      "Data columns (total 10 columns):\n",
      " #   Column                 Non-Null Count  Dtype  \n",
      "---  ------                 --------------  -----  \n",
      " 0   gender                 54030 non-null  object \n",
      " 1   age                    54030 non-null  int64  \n",
      " 2   gross_income           54030 non-null  float64\n",
      " 3   segment                54030 non-null  object \n",
      " 4   num_credit_cards       54030 non-null  int64  \n",
      " 5   tiprel_1mes            54030 non-null  object \n",
      " 6   ind_actividad_cliente  54030 non-null  int64  \n",
      " 7   num_Products           54030 non-null  int64  \n",
      " 8   num_loans              54030 non-null  int64  \n",
      " 9   duration               54030 non-null  int64  \n",
      "dtypes: float64(1), int64(6), object(3)\n",
      "memory usage: 4.1+ MB\n"
     ]
    }
   ],
   "source": [
    "rda_dataframe_cleaned.info()"
   ]
  },
  {
   "cell_type": "markdown",
   "id": "92945710-7a55-4a10-894d-7b6eb9dcbbf5",
   "metadata": {},
   "source": [
    "# Checking null values"
   ]
  },
  {
   "cell_type": "code",
   "execution_count": 44,
   "id": "45f0c797-17c8-4843-a9a1-33ba55fcc620",
   "metadata": {},
   "outputs": [
    {
     "data": {
      "text/plain": [
       "gender                   0\n",
       "age                      0\n",
       "gross_income             0\n",
       "segment                  0\n",
       "num_credit_cards         0\n",
       "tiprel_1mes              0\n",
       "ind_actividad_cliente    0\n",
       "num_Products             0\n",
       "num_loans                0\n",
       "duration                 0\n",
       "dtype: int64"
      ]
     },
     "execution_count": 44,
     "metadata": {},
     "output_type": "execute_result"
    }
   ],
   "source": [
    "rda_dataframe_cleaned.isnull().sum()"
   ]
  },
  {
   "cell_type": "markdown",
   "id": "4dda5954-619a-4029-8ae6-b0478f414811",
   "metadata": {},
   "source": [
    "### ***Nil null values***"
   ]
  },
  {
   "cell_type": "markdown",
   "id": "d2514dc5-1b6f-459a-a7dd-ffe9995ae6bf",
   "metadata": {},
   "source": [
    "# Tasks 1.3 - b _ Numeric summary for the variables which are numeric in nature :"
   ]
  },
  {
   "cell_type": "markdown",
   "id": "1907af36-b5bb-49cc-8c19-9d7d63cdb2c1",
   "metadata": {},
   "source": [
    "### Min, Max,Mean,25th percentile, Median, 75th percentile can be checked with describe()"
   ]
  },
  {
   "cell_type": "code",
   "execution_count": 46,
   "id": "0f133c37-fc45-402f-b442-529588adf4a3",
   "metadata": {},
   "outputs": [
    {
     "data": {
      "text/html": [
       "<div>\n",
       "<style scoped>\n",
       "    .dataframe tbody tr th:only-of-type {\n",
       "        vertical-align: middle;\n",
       "    }\n",
       "\n",
       "    .dataframe tbody tr th {\n",
       "        vertical-align: top;\n",
       "    }\n",
       "\n",
       "    .dataframe thead th {\n",
       "        text-align: right;\n",
       "    }\n",
       "</style>\n",
       "<table border=\"1\" class=\"dataframe\">\n",
       "  <thead>\n",
       "    <tr style=\"text-align: right;\">\n",
       "      <th></th>\n",
       "      <th>age</th>\n",
       "      <th>gross_income</th>\n",
       "      <th>num_credit_cards</th>\n",
       "      <th>ind_actividad_cliente</th>\n",
       "      <th>num_Products</th>\n",
       "      <th>num_loans</th>\n",
       "      <th>duration</th>\n",
       "    </tr>\n",
       "  </thead>\n",
       "  <tbody>\n",
       "    <tr>\n",
       "      <th>count</th>\n",
       "      <td>54030.000000</td>\n",
       "      <td>5.403000e+04</td>\n",
       "      <td>54030.000000</td>\n",
       "      <td>54030.000000</td>\n",
       "      <td>54030.000000</td>\n",
       "      <td>54030.000000</td>\n",
       "      <td>54030.000000</td>\n",
       "    </tr>\n",
       "    <tr>\n",
       "      <th>mean</th>\n",
       "      <td>40.772534</td>\n",
       "      <td>1.341967e+05</td>\n",
       "      <td>0.049880</td>\n",
       "      <td>0.469073</td>\n",
       "      <td>1.536017</td>\n",
       "      <td>0.009365</td>\n",
       "      <td>2913.936665</td>\n",
       "    </tr>\n",
       "    <tr>\n",
       "      <th>std</th>\n",
       "      <td>17.210781</td>\n",
       "      <td>2.397215e+05</td>\n",
       "      <td>0.217698</td>\n",
       "      <td>0.499047</td>\n",
       "      <td>1.578848</td>\n",
       "      <td>0.096320</td>\n",
       "      <td>2027.956268</td>\n",
       "    </tr>\n",
       "    <tr>\n",
       "      <th>min</th>\n",
       "      <td>2.000000</td>\n",
       "      <td>2.336010e+03</td>\n",
       "      <td>0.000000</td>\n",
       "      <td>0.000000</td>\n",
       "      <td>0.000000</td>\n",
       "      <td>0.000000</td>\n",
       "      <td>366.000000</td>\n",
       "    </tr>\n",
       "    <tr>\n",
       "      <th>25%</th>\n",
       "      <td>25.000000</td>\n",
       "      <td>6.858107e+04</td>\n",
       "      <td>0.000000</td>\n",
       "      <td>0.000000</td>\n",
       "      <td>1.000000</td>\n",
       "      <td>0.000000</td>\n",
       "      <td>1118.000000</td>\n",
       "    </tr>\n",
       "    <tr>\n",
       "      <th>50%</th>\n",
       "      <td>40.000000</td>\n",
       "      <td>1.015663e+05</td>\n",
       "      <td>0.000000</td>\n",
       "      <td>0.000000</td>\n",
       "      <td>1.000000</td>\n",
       "      <td>0.000000</td>\n",
       "      <td>2039.500000</td>\n",
       "    </tr>\n",
       "    <tr>\n",
       "      <th>75%</th>\n",
       "      <td>51.000000</td>\n",
       "      <td>1.562538e+05</td>\n",
       "      <td>0.000000</td>\n",
       "      <td>1.000000</td>\n",
       "      <td>2.000000</td>\n",
       "      <td>0.000000</td>\n",
       "      <td>4693.000000</td>\n",
       "    </tr>\n",
       "    <tr>\n",
       "      <th>max</th>\n",
       "      <td>112.000000</td>\n",
       "      <td>2.889440e+07</td>\n",
       "      <td>1.000000</td>\n",
       "      <td>1.000000</td>\n",
       "      <td>13.000000</td>\n",
       "      <td>1.000000</td>\n",
       "      <td>7909.000000</td>\n",
       "    </tr>\n",
       "  </tbody>\n",
       "</table>\n",
       "</div>"
      ],
      "text/plain": [
       "                age  gross_income  num_credit_cards  ind_actividad_cliente  \\\n",
       "count  54030.000000  5.403000e+04      54030.000000           54030.000000   \n",
       "mean      40.772534  1.341967e+05          0.049880               0.469073   \n",
       "std       17.210781  2.397215e+05          0.217698               0.499047   \n",
       "min        2.000000  2.336010e+03          0.000000               0.000000   \n",
       "25%       25.000000  6.858107e+04          0.000000               0.000000   \n",
       "50%       40.000000  1.015663e+05          0.000000               0.000000   \n",
       "75%       51.000000  1.562538e+05          0.000000               1.000000   \n",
       "max      112.000000  2.889440e+07          1.000000               1.000000   \n",
       "\n",
       "       num_Products     num_loans      duration  \n",
       "count  54030.000000  54030.000000  54030.000000  \n",
       "mean       1.536017      0.009365   2913.936665  \n",
       "std        1.578848      0.096320   2027.956268  \n",
       "min        0.000000      0.000000    366.000000  \n",
       "25%        1.000000      0.000000   1118.000000  \n",
       "50%        1.000000      0.000000   2039.500000  \n",
       "75%        2.000000      0.000000   4693.000000  \n",
       "max       13.000000      1.000000   7909.000000  "
      ]
     },
     "execution_count": 46,
     "metadata": {},
     "output_type": "execute_result"
    }
   ],
   "source": [
    "rda_dataframe_cleaned.describe()"
   ]
  },
  {
   "cell_type": "markdown",
   "id": "b92b7583-1365-4cbb-aeee-5fa701f8ffb2",
   "metadata": {},
   "source": [
    "### Unique values checking (includes task 1.3 - c) :"
   ]
  },
  {
   "cell_type": "code",
   "execution_count": 47,
   "id": "b7e05ded-0212-4e93-882b-6fa4762172dc",
   "metadata": {},
   "outputs": [
    {
     "data": {
      "text/plain": [
       "gender                       2\n",
       "age                        110\n",
       "gross_income             49994\n",
       "segment                      3\n",
       "num_credit_cards             2\n",
       "tiprel_1mes                  2\n",
       "ind_actividad_cliente        2\n",
       "num_Products                14\n",
       "num_loans                    2\n",
       "duration                  5677\n",
       "dtype: int64"
      ]
     },
     "execution_count": 47,
     "metadata": {},
     "output_type": "execute_result"
    }
   ],
   "source": [
    "rda_dataframe_cleaned.nunique()"
   ]
  },
  {
   "cell_type": "markdown",
   "id": "e8a49931-2f79-4d21-a509-5529fad83271",
   "metadata": {},
   "source": [
    "### Missing values :"
   ]
  },
  {
   "cell_type": "code",
   "execution_count": 48,
   "id": "53fc3b06-accf-4c85-a789-05ce273b0961",
   "metadata": {},
   "outputs": [
    {
     "name": "stdout",
     "output_type": "stream",
     "text": [
      "<class 'pandas.core.frame.DataFrame'>\n",
      "RangeIndex: 54030 entries, 0 to 54029\n",
      "Data columns (total 10 columns):\n",
      " #   Column                 Non-Null Count  Dtype  \n",
      "---  ------                 --------------  -----  \n",
      " 0   gender                 54030 non-null  object \n",
      " 1   age                    54030 non-null  int64  \n",
      " 2   gross_income           54030 non-null  float64\n",
      " 3   segment                54030 non-null  object \n",
      " 4   num_credit_cards       54030 non-null  int64  \n",
      " 5   tiprel_1mes            54030 non-null  object \n",
      " 6   ind_actividad_cliente  54030 non-null  int64  \n",
      " 7   num_Products           54030 non-null  int64  \n",
      " 8   num_loans              54030 non-null  int64  \n",
      " 9   duration               54030 non-null  int64  \n",
      "dtypes: float64(1), int64(6), object(3)\n",
      "memory usage: 4.1+ MB\n"
     ]
    }
   ],
   "source": [
    "rda_dataframe_cleaned.info()"
   ]
  },
  {
   "cell_type": "markdown",
   "id": "9cd3a326-22cd-4488-ac05-e1d4a8edf551",
   "metadata": {},
   "source": [
    "### Number of zeros :"
   ]
  },
  {
   "cell_type": "code",
   "execution_count": 49,
   "id": "1f4b4ac7-1f79-47bc-8f8d-1c3042f1d4a4",
   "metadata": {},
   "outputs": [
    {
     "data": {
      "text/plain": [
       "['age',\n",
       " 'gross_income',\n",
       " 'num_credit_cards',\n",
       " 'ind_actividad_cliente',\n",
       " 'num_Products',\n",
       " 'num_loans',\n",
       " 'duration']"
      ]
     },
     "execution_count": 49,
     "metadata": {},
     "output_type": "execute_result"
    }
   ],
   "source": [
    "list(rda_dataframe_cleaned.describe().columns)"
   ]
  },
  {
   "cell_type": "code",
   "execution_count": 50,
   "id": "5187b81f-e23f-41b6-b204-423cac04e91e",
   "metadata": {},
   "outputs": [
    {
     "data": {
      "text/plain": [
       "age                          0\n",
       "gross_income                 0\n",
       "num_credit_cards         51335\n",
       "ind_actividad_cliente    28686\n",
       "num_Products              9573\n",
       "num_loans                53524\n",
       "duration                     0\n",
       "dtype: int64"
      ]
     },
     "execution_count": 50,
     "metadata": {},
     "output_type": "execute_result"
    }
   ],
   "source": [
    "(rda_dataframe_cleaned[list(rda_dataframe_cleaned.describe().columns)] == 0).sum()"
   ]
  },
  {
   "cell_type": "markdown",
   "id": "fdc3c5e6-79d8-41da-87d3-91803dd9715b",
   "metadata": {},
   "source": [
    "### Finding the 90th percentile and 95th percentile :"
   ]
  },
  {
   "cell_type": "code",
   "execution_count": 56,
   "id": "2df757cf-6623-4067-a1b3-fcc50c7b570d",
   "metadata": {},
   "outputs": [
    {
     "data": {
      "text/html": [
       "<div>\n",
       "<style scoped>\n",
       "    .dataframe tbody tr th:only-of-type {\n",
       "        vertical-align: middle;\n",
       "    }\n",
       "\n",
       "    .dataframe tbody tr th {\n",
       "        vertical-align: top;\n",
       "    }\n",
       "\n",
       "    .dataframe thead th {\n",
       "        text-align: right;\n",
       "    }\n",
       "</style>\n",
       "<table border=\"1\" class=\"dataframe\">\n",
       "  <thead>\n",
       "    <tr style=\"text-align: right;\">\n",
       "      <th></th>\n",
       "      <th>age</th>\n",
       "      <th>gross_income</th>\n",
       "      <th>num_credit_cards</th>\n",
       "      <th>ind_actividad_cliente</th>\n",
       "      <th>num_Products</th>\n",
       "      <th>num_loans</th>\n",
       "      <th>duration</th>\n",
       "    </tr>\n",
       "  </thead>\n",
       "  <tbody>\n",
       "    <tr>\n",
       "      <th>0.90</th>\n",
       "      <td>65.0</td>\n",
       "      <td>234387.8760</td>\n",
       "      <td>0.0</td>\n",
       "      <td>1.0</td>\n",
       "      <td>3.0</td>\n",
       "      <td>0.0</td>\n",
       "      <td>5844.0</td>\n",
       "    </tr>\n",
       "    <tr>\n",
       "      <th>0.95</th>\n",
       "      <td>74.0</td>\n",
       "      <td>310033.3665</td>\n",
       "      <td>0.0</td>\n",
       "      <td>1.0</td>\n",
       "      <td>5.0</td>\n",
       "      <td>0.0</td>\n",
       "      <td>6529.0</td>\n",
       "    </tr>\n",
       "  </tbody>\n",
       "</table>\n",
       "</div>"
      ],
      "text/plain": [
       "       age  gross_income  num_credit_cards  ind_actividad_cliente  \\\n",
       "0.90  65.0   234387.8760               0.0                    1.0   \n",
       "0.95  74.0   310033.3665               0.0                    1.0   \n",
       "\n",
       "      num_Products  num_loans  duration  \n",
       "0.90           3.0        0.0    5844.0  \n",
       "0.95           5.0        0.0    6529.0  "
      ]
     },
     "execution_count": 56,
     "metadata": {},
     "output_type": "execute_result"
    }
   ],
   "source": [
    "rda_dataframe_cleaned.quantile([0.9,0.95])"
   ]
  },
  {
   "cell_type": "markdown",
   "id": "89ef5938-212c-4890-8cb1-39c92ef9f091",
   "metadata": {},
   "source": [
    "### Plots for duration column to check outliers if any :"
   ]
  },
  {
   "cell_type": "code",
   "execution_count": 57,
   "id": "46824615-7c3f-4c3a-afd5-3ca4b0828f61",
   "metadata": {},
   "outputs": [
    {
     "data": {
      "image/png": "[encoded data removed]",
      "text/plain": [
       "<Figure size 432x288 with 1 Axes>"
      ]
     },
     "metadata": {
      "needs_background": "light"
     },
     "output_type": "display_data"
    }
   ],
   "source": [
    "rda_dataframe_cleaned['duration'].plot.box(title=\"Box plot of duration\", xticks=[]);"
   ]
  },
  {
   "cell_type": "code",
   "execution_count": 58,
   "id": "945e7542-d95b-4c97-b0d9-ed9a56dbf68e",
   "metadata": {},
   "outputs": [
    {
     "data": {
      "text/plain": [
       "<AxesSubplot:>"
      ]
     },
     "execution_count": 58,
     "metadata": {},
     "output_type": "execute_result"
    },
    {
     "data": {
      "image/png": "[encoded data removed]",
      "text/plain": [
       "<Figure size 432x288 with 1 Axes>"
      ]
     },
     "metadata": {
      "needs_background": "light"
     },
     "output_type": "display_data"
    }
   ],
   "source": [
    "rda_dataframe_cleaned['duration'].plot(style='.')"
   ]
  },
  {
   "cell_type": "markdown",
   "id": "33bf9cf5-f31a-4825-b157-e70739ec499a",
   "metadata": {},
   "source": [
    "### Whether close to normal distribution :"
   ]
  },
  {
   "cell_type": "code",
   "execution_count": 61,
   "id": "9836f6b1-f1fd-4275-903d-0f7fdc5e972a",
   "metadata": {},
   "outputs": [
    {
     "data": {
      "image/png": "[encoded data removed]",
      "text/plain": [
       "<Figure size 432x288 with 1 Axes>"
      ]
     },
     "metadata": {
      "needs_background": "light"
     },
     "output_type": "display_data"
    }
   ],
   "source": [
    "ND = rda_dataframe_cleaned['duration'].plot.kde() #ND ---> Normal Distribution"
   ]
  },
  {
   "cell_type": "code",
   "execution_count": 62,
   "id": "50f0317c-1fab-4756-ac4b-287ba9b51a4e",
   "metadata": {},
   "outputs": [
    {
     "data": {
      "text/html": [
       "<div>\n",
       "<style scoped>\n",
       "    .dataframe tbody tr th:only-of-type {\n",
       "        vertical-align: middle;\n",
       "    }\n",
       "\n",
       "    .dataframe tbody tr th {\n",
       "        vertical-align: top;\n",
       "    }\n",
       "\n",
       "    .dataframe thead th {\n",
       "        text-align: right;\n",
       "    }\n",
       "</style>\n",
       "<table border=\"1\" class=\"dataframe\">\n",
       "  <thead>\n",
       "    <tr style=\"text-align: right;\">\n",
       "      <th></th>\n",
       "      <th>gender</th>\n",
       "      <th>age</th>\n",
       "      <th>gross_income</th>\n",
       "      <th>segment</th>\n",
       "      <th>num_credit_cards</th>\n",
       "      <th>tiprel_1mes</th>\n",
       "      <th>ind_actividad_cliente</th>\n",
       "      <th>num_Products</th>\n",
       "      <th>num_loans</th>\n",
       "      <th>duration</th>\n",
       "    </tr>\n",
       "  </thead>\n",
       "  <tbody>\n",
       "    <tr>\n",
       "      <th>0</th>\n",
       "      <td>M</td>\n",
       "      <td>21</td>\n",
       "      <td>79070.91</td>\n",
       "      <td>Individuals</td>\n",
       "      <td>0</td>\n",
       "      <td>I</td>\n",
       "      <td>0</td>\n",
       "      <td>1</td>\n",
       "      <td>0</td>\n",
       "      <td>1035</td>\n",
       "    </tr>\n",
       "    <tr>\n",
       "      <th>1</th>\n",
       "      <td>M</td>\n",
       "      <td>23</td>\n",
       "      <td>178270.68</td>\n",
       "      <td>College_Graduated</td>\n",
       "      <td>0</td>\n",
       "      <td>I</td>\n",
       "      <td>0</td>\n",
       "      <td>1</td>\n",
       "      <td>0</td>\n",
       "      <td>1097</td>\n",
       "    </tr>\n",
       "    <tr>\n",
       "      <th>2</th>\n",
       "      <td>M</td>\n",
       "      <td>24</td>\n",
       "      <td>31243.56</td>\n",
       "      <td>College_Graduated</td>\n",
       "      <td>0</td>\n",
       "      <td>I</td>\n",
       "      <td>1</td>\n",
       "      <td>1</td>\n",
       "      <td>0</td>\n",
       "      <td>1866</td>\n",
       "    </tr>\n",
       "    <tr>\n",
       "      <th>3</th>\n",
       "      <td>M</td>\n",
       "      <td>24</td>\n",
       "      <td>130740.54</td>\n",
       "      <td>College_Graduated</td>\n",
       "      <td>0</td>\n",
       "      <td>I</td>\n",
       "      <td>0</td>\n",
       "      <td>1</td>\n",
       "      <td>0</td>\n",
       "      <td>1440</td>\n",
       "    </tr>\n",
       "    <tr>\n",
       "      <th>4</th>\n",
       "      <td>M</td>\n",
       "      <td>31</td>\n",
       "      <td>112975.17</td>\n",
       "      <td>Individuals</td>\n",
       "      <td>0</td>\n",
       "      <td>I</td>\n",
       "      <td>0</td>\n",
       "      <td>0</td>\n",
       "      <td>0</td>\n",
       "      <td>376</td>\n",
       "    </tr>\n",
       "  </tbody>\n",
       "</table>\n",
       "</div>"
      ],
      "text/plain": [
       "  gender  age  gross_income            segment  num_credit_cards tiprel_1mes  \\\n",
       "0      M   21      79070.91        Individuals                 0           I   \n",
       "1      M   23     178270.68  College_Graduated                 0           I   \n",
       "2      M   24      31243.56  College_Graduated                 0           I   \n",
       "3      M   24     130740.54  College_Graduated                 0           I   \n",
       "4      M   31     112975.17        Individuals                 0           I   \n",
       "\n",
       "   ind_actividad_cliente  num_Products  num_loans  duration  \n",
       "0                      0             1          0      1035  \n",
       "1                      0             1          0      1097  \n",
       "2                      1             1          0      1866  \n",
       "3                      0             1          0      1440  \n",
       "4                      0             0          0       376  "
      ]
     },
     "execution_count": 62,
     "metadata": {},
     "output_type": "execute_result"
    }
   ],
   "source": [
    "rda_dataframe_cleaned.head()"
   ]
  },
  {
   "cell_type": "markdown",
   "id": "5a0b4af3-8a1f-4db1-a474-948220f3bea1",
   "metadata": {},
   "source": [
    "## Making tiprel_1mes column numeric by replacing A with 1 and 0 with I :"
   ]
  },
  {
   "cell_type": "code",
   "execution_count": 63,
   "id": "e107f60b-fa94-4c2a-8ef2-21a1534ab4ae",
   "metadata": {},
   "outputs": [],
   "source": [
    "rda_dataframe_cleaned.loc[rda_dataframe_cleaned['tiprel_1mes'] == \"I\",'tiprel_1mes'] = 0"
   ]
  },
  {
   "cell_type": "code",
   "execution_count": 64,
   "id": "b23dc2a0-6c7c-4a0e-976a-516890e06477",
   "metadata": {},
   "outputs": [],
   "source": [
    "rda_dataframe_cleaned.loc[rda_dataframe_cleaned['tiprel_1mes'] == \"A\",'tiprel_1mes'] = 1"
   ]
  },
  {
   "cell_type": "code",
   "execution_count": 65,
   "id": "4a866366-ad30-47ef-bf6a-a71114274690",
   "metadata": {},
   "outputs": [
    {
     "data": {
      "text/html": [
       "<div>\n",
       "<style scoped>\n",
       "    .dataframe tbody tr th:only-of-type {\n",
       "        vertical-align: middle;\n",
       "    }\n",
       "\n",
       "    .dataframe tbody tr th {\n",
       "        vertical-align: top;\n",
       "    }\n",
       "\n",
       "    .dataframe thead th {\n",
       "        text-align: right;\n",
       "    }\n",
       "</style>\n",
       "<table border=\"1\" class=\"dataframe\">\n",
       "  <thead>\n",
       "    <tr style=\"text-align: right;\">\n",
       "      <th></th>\n",
       "      <th>gender</th>\n",
       "      <th>age</th>\n",
       "      <th>gross_income</th>\n",
       "      <th>segment</th>\n",
       "      <th>num_credit_cards</th>\n",
       "      <th>tiprel_1mes</th>\n",
       "      <th>ind_actividad_cliente</th>\n",
       "      <th>num_Products</th>\n",
       "      <th>num_loans</th>\n",
       "      <th>duration</th>\n",
       "    </tr>\n",
       "  </thead>\n",
       "  <tbody>\n",
       "    <tr>\n",
       "      <th>0</th>\n",
       "      <td>M</td>\n",
       "      <td>21</td>\n",
       "      <td>79070.91</td>\n",
       "      <td>Individuals</td>\n",
       "      <td>0</td>\n",
       "      <td>0</td>\n",
       "      <td>0</td>\n",
       "      <td>1</td>\n",
       "      <td>0</td>\n",
       "      <td>1035</td>\n",
       "    </tr>\n",
       "    <tr>\n",
       "      <th>1</th>\n",
       "      <td>M</td>\n",
       "      <td>23</td>\n",
       "      <td>178270.68</td>\n",
       "      <td>College_Graduated</td>\n",
       "      <td>0</td>\n",
       "      <td>0</td>\n",
       "      <td>0</td>\n",
       "      <td>1</td>\n",
       "      <td>0</td>\n",
       "      <td>1097</td>\n",
       "    </tr>\n",
       "    <tr>\n",
       "      <th>2</th>\n",
       "      <td>M</td>\n",
       "      <td>24</td>\n",
       "      <td>31243.56</td>\n",
       "      <td>College_Graduated</td>\n",
       "      <td>0</td>\n",
       "      <td>0</td>\n",
       "      <td>1</td>\n",
       "      <td>1</td>\n",
       "      <td>0</td>\n",
       "      <td>1866</td>\n",
       "    </tr>\n",
       "    <tr>\n",
       "      <th>3</th>\n",
       "      <td>M</td>\n",
       "      <td>24</td>\n",
       "      <td>130740.54</td>\n",
       "      <td>College_Graduated</td>\n",
       "      <td>0</td>\n",
       "      <td>0</td>\n",
       "      <td>0</td>\n",
       "      <td>1</td>\n",
       "      <td>0</td>\n",
       "      <td>1440</td>\n",
       "    </tr>\n",
       "    <tr>\n",
       "      <th>4</th>\n",
       "      <td>M</td>\n",
       "      <td>31</td>\n",
       "      <td>112975.17</td>\n",
       "      <td>Individuals</td>\n",
       "      <td>0</td>\n",
       "      <td>0</td>\n",
       "      <td>0</td>\n",
       "      <td>0</td>\n",
       "      <td>0</td>\n",
       "      <td>376</td>\n",
       "    </tr>\n",
       "  </tbody>\n",
       "</table>\n",
       "</div>"
      ],
      "text/plain": [
       "  gender  age  gross_income            segment  num_credit_cards tiprel_1mes  \\\n",
       "0      M   21      79070.91        Individuals                 0           0   \n",
       "1      M   23     178270.68  College_Graduated                 0           0   \n",
       "2      M   24      31243.56  College_Graduated                 0           0   \n",
       "3      M   24     130740.54  College_Graduated                 0           0   \n",
       "4      M   31     112975.17        Individuals                 0           0   \n",
       "\n",
       "   ind_actividad_cliente  num_Products  num_loans  duration  \n",
       "0                      0             1          0      1035  \n",
       "1                      0             1          0      1097  \n",
       "2                      1             1          0      1866  \n",
       "3                      0             1          0      1440  \n",
       "4                      0             0          0       376  "
      ]
     },
     "execution_count": 65,
     "metadata": {},
     "output_type": "execute_result"
    }
   ],
   "source": [
    "rda_dataframe_cleaned.head()"
   ]
  },
  {
   "cell_type": "markdown",
   "id": "8203769a-a7c5-4eba-a945-60178e6cca4e",
   "metadata": {},
   "source": [
    "# Task 2 _ Data Exploration and business hypothesis testing :"
   ]
  },
  {
   "cell_type": "markdown",
   "id": "a8bc1924-9057-449a-805b-9528589b66c1",
   "metadata": {},
   "source": [
    "### Task 2.1 _ For people who were inactive at the start of the study and were active by the time the study ended, is there a pattern in terms of age and gender?"
   ]
  },
  {
   "cell_type": "code",
   "execution_count": 68,
   "id": "bdec8027-07ab-4bce-8cb6-719b5c6a6972",
   "metadata": {},
   "outputs": [],
   "source": [
    "Inactive_to_Active_End = rda_dataframe_cleaned[(rda_dataframe_cleaned['tiprel_1mes'] == 0) & (rda_dataframe_cleaned['ind_actividad_cliente'] == 1) ]"
   ]
  },
  {
   "cell_type": "code",
   "execution_count": 69,
   "id": "73d6e7bb-7dd4-40a5-b28b-bdaadd35de1c",
   "metadata": {},
   "outputs": [
    {
     "data": {
      "text/html": [
       "<div>\n",
       "<style scoped>\n",
       "    .dataframe tbody tr th:only-of-type {\n",
       "        vertical-align: middle;\n",
       "    }\n",
       "\n",
       "    .dataframe tbody tr th {\n",
       "        vertical-align: top;\n",
       "    }\n",
       "\n",
       "    .dataframe thead th {\n",
       "        text-align: right;\n",
       "    }\n",
       "</style>\n",
       "<table border=\"1\" class=\"dataframe\">\n",
       "  <thead>\n",
       "    <tr style=\"text-align: right;\">\n",
       "      <th></th>\n",
       "      <th>gender</th>\n",
       "      <th>age</th>\n",
       "      <th>gross_income</th>\n",
       "      <th>segment</th>\n",
       "      <th>num_credit_cards</th>\n",
       "      <th>tiprel_1mes</th>\n",
       "      <th>ind_actividad_cliente</th>\n",
       "      <th>num_Products</th>\n",
       "      <th>num_loans</th>\n",
       "      <th>duration</th>\n",
       "    </tr>\n",
       "  </thead>\n",
       "  <tbody>\n",
       "    <tr>\n",
       "      <th>2</th>\n",
       "      <td>M</td>\n",
       "      <td>24</td>\n",
       "      <td>31243.56</td>\n",
       "      <td>College_Graduated</td>\n",
       "      <td>0</td>\n",
       "      <td>0</td>\n",
       "      <td>1</td>\n",
       "      <td>1</td>\n",
       "      <td>0</td>\n",
       "      <td>1866</td>\n",
       "    </tr>\n",
       "    <tr>\n",
       "      <th>9</th>\n",
       "      <td>M</td>\n",
       "      <td>26</td>\n",
       "      <td>27311.31</td>\n",
       "      <td>College_Graduated</td>\n",
       "      <td>0</td>\n",
       "      <td>0</td>\n",
       "      <td>1</td>\n",
       "      <td>1</td>\n",
       "      <td>0</td>\n",
       "      <td>1458</td>\n",
       "    </tr>\n",
       "    <tr>\n",
       "      <th>97</th>\n",
       "      <td>F</td>\n",
       "      <td>84</td>\n",
       "      <td>71984.22</td>\n",
       "      <td>Individuals</td>\n",
       "      <td>0</td>\n",
       "      <td>0</td>\n",
       "      <td>1</td>\n",
       "      <td>1</td>\n",
       "      <td>0</td>\n",
       "      <td>2874</td>\n",
       "    </tr>\n",
       "    <tr>\n",
       "      <th>119</th>\n",
       "      <td>M</td>\n",
       "      <td>49</td>\n",
       "      <td>314065.11</td>\n",
       "      <td>Individuals</td>\n",
       "      <td>0</td>\n",
       "      <td>0</td>\n",
       "      <td>1</td>\n",
       "      <td>2</td>\n",
       "      <td>0</td>\n",
       "      <td>6418</td>\n",
       "    </tr>\n",
       "    <tr>\n",
       "      <th>165</th>\n",
       "      <td>M</td>\n",
       "      <td>25</td>\n",
       "      <td>50303.79</td>\n",
       "      <td>College_Graduated</td>\n",
       "      <td>0</td>\n",
       "      <td>0</td>\n",
       "      <td>1</td>\n",
       "      <td>1</td>\n",
       "      <td>0</td>\n",
       "      <td>1133</td>\n",
       "    </tr>\n",
       "  </tbody>\n",
       "</table>\n",
       "</div>"
      ],
      "text/plain": [
       "    gender  age  gross_income            segment  num_credit_cards  \\\n",
       "2        M   24      31243.56  College_Graduated                 0   \n",
       "9        M   26      27311.31  College_Graduated                 0   \n",
       "97       F   84      71984.22        Individuals                 0   \n",
       "119      M   49     314065.11        Individuals                 0   \n",
       "165      M   25      50303.79  College_Graduated                 0   \n",
       "\n",
       "    tiprel_1mes  ind_actividad_cliente  num_Products  num_loans  duration  \n",
       "2             0                      1             1          0      1866  \n",
       "9             0                      1             1          0      1458  \n",
       "97            0                      1             1          0      2874  \n",
       "119           0                      1             2          0      6418  \n",
       "165           0                      1             1          0      1133  "
      ]
     },
     "execution_count": 69,
     "metadata": {},
     "output_type": "execute_result"
    }
   ],
   "source": [
    "Inactive_to_Active_End.head()"
   ]
  },
  {
   "cell_type": "code",
   "execution_count": 71,
   "id": "18a27fdb-534a-4d07-9c73-8d24ccf41ad2",
   "metadata": {},
   "outputs": [
    {
     "data": {
      "text/plain": [
       "gender                   2438\n",
       "age                      2438\n",
       "gross_income             2438\n",
       "segment                  2438\n",
       "num_credit_cards         2438\n",
       "tiprel_1mes              2438\n",
       "ind_actividad_cliente    2438\n",
       "num_Products             2438\n",
       "num_loans                2438\n",
       "duration                 2438\n",
       "dtype: int64"
      ]
     },
     "execution_count": 71,
     "metadata": {},
     "output_type": "execute_result"
    }
   ],
   "source": [
    "Inactive_to_Active_End.count()"
   ]
  },
  {
   "cell_type": "code",
   "execution_count": 76,
   "id": "92fe576f-1df2-4f6e-90d2-c0833233fd72",
   "metadata": {},
   "outputs": [
    {
     "data": {
      "image/png": "[encoded data removed]",
      "text/plain": [
       "<Figure size 432x288 with 1 Axes>"
      ]
     },
     "metadata": {
      "needs_background": "light"
     },
     "output_type": "display_data"
    }
   ],
   "source": [
    "Inactive_to_Active_End['age'].hist()\n",
    "import seaborn as sns #sns.set_style(\"whitegrid\")"
   ]
  },
  {
   "cell_type": "code",
   "execution_count": 77,
   "id": "9d409585-1085-4092-aad7-6bcfb5d0671b",
   "metadata": {},
   "outputs": [
    {
     "data": {
      "text/html": [
       "<div>\n",
       "<style scoped>\n",
       "    .dataframe tbody tr th:only-of-type {\n",
       "        vertical-align: middle;\n",
       "    }\n",
       "\n",
       "    .dataframe tbody tr th {\n",
       "        vertical-align: top;\n",
       "    }\n",
       "\n",
       "    .dataframe thead th {\n",
       "        text-align: right;\n",
       "    }\n",
       "</style>\n",
       "<table border=\"1\" class=\"dataframe\">\n",
       "  <thead>\n",
       "    <tr style=\"text-align: right;\">\n",
       "      <th></th>\n",
       "      <th>age</th>\n",
       "      <th>gross_income</th>\n",
       "      <th>num_credit_cards</th>\n",
       "      <th>ind_actividad_cliente</th>\n",
       "      <th>num_Products</th>\n",
       "      <th>num_loans</th>\n",
       "      <th>duration</th>\n",
       "    </tr>\n",
       "  </thead>\n",
       "  <tbody>\n",
       "    <tr>\n",
       "      <th>count</th>\n",
       "      <td>2438.000000</td>\n",
       "      <td>2.438000e+03</td>\n",
       "      <td>2438.000000</td>\n",
       "      <td>2438.0</td>\n",
       "      <td>2438.000000</td>\n",
       "      <td>2438.0</td>\n",
       "      <td>2438.000000</td>\n",
       "    </tr>\n",
       "    <tr>\n",
       "      <th>mean</th>\n",
       "      <td>39.749385</td>\n",
       "      <td>1.230937e+05</td>\n",
       "      <td>0.001641</td>\n",
       "      <td>1.0</td>\n",
       "      <td>1.277276</td>\n",
       "      <td>0.0</td>\n",
       "      <td>2648.244053</td>\n",
       "    </tr>\n",
       "    <tr>\n",
       "      <th>std</th>\n",
       "      <td>17.645088</td>\n",
       "      <td>9.329729e+04</td>\n",
       "      <td>0.040480</td>\n",
       "      <td>0.0</td>\n",
       "      <td>0.530003</td>\n",
       "      <td>0.0</td>\n",
       "      <td>1874.054211</td>\n",
       "    </tr>\n",
       "    <tr>\n",
       "      <th>min</th>\n",
       "      <td>2.000000</td>\n",
       "      <td>9.049620e+03</td>\n",
       "      <td>0.000000</td>\n",
       "      <td>1.0</td>\n",
       "      <td>0.000000</td>\n",
       "      <td>0.0</td>\n",
       "      <td>366.000000</td>\n",
       "    </tr>\n",
       "    <tr>\n",
       "      <th>25%</th>\n",
       "      <td>24.000000</td>\n",
       "      <td>6.711970e+04</td>\n",
       "      <td>0.000000</td>\n",
       "      <td>1.0</td>\n",
       "      <td>1.000000</td>\n",
       "      <td>0.0</td>\n",
       "      <td>1091.000000</td>\n",
       "    </tr>\n",
       "    <tr>\n",
       "      <th>50%</th>\n",
       "      <td>37.000000</td>\n",
       "      <td>9.750150e+04</td>\n",
       "      <td>0.000000</td>\n",
       "      <td>1.0</td>\n",
       "      <td>1.000000</td>\n",
       "      <td>0.0</td>\n",
       "      <td>1824.500000</td>\n",
       "    </tr>\n",
       "    <tr>\n",
       "      <th>75%</th>\n",
       "      <td>50.000000</td>\n",
       "      <td>1.482009e+05</td>\n",
       "      <td>0.000000</td>\n",
       "      <td>1.0</td>\n",
       "      <td>2.000000</td>\n",
       "      <td>0.0</td>\n",
       "      <td>4283.000000</td>\n",
       "    </tr>\n",
       "    <tr>\n",
       "      <th>max</th>\n",
       "      <td>105.000000</td>\n",
       "      <td>1.174394e+06</td>\n",
       "      <td>1.000000</td>\n",
       "      <td>1.0</td>\n",
       "      <td>4.000000</td>\n",
       "      <td>0.0</td>\n",
       "      <td>7879.000000</td>\n",
       "    </tr>\n",
       "  </tbody>\n",
       "</table>\n",
       "</div>"
      ],
      "text/plain": [
       "               age  gross_income  num_credit_cards  ind_actividad_cliente  \\\n",
       "count  2438.000000  2.438000e+03       2438.000000                 2438.0   \n",
       "mean     39.749385  1.230937e+05          0.001641                    1.0   \n",
       "std      17.645088  9.329729e+04          0.040480                    0.0   \n",
       "min       2.000000  9.049620e+03          0.000000                    1.0   \n",
       "25%      24.000000  6.711970e+04          0.000000                    1.0   \n",
       "50%      37.000000  9.750150e+04          0.000000                    1.0   \n",
       "75%      50.000000  1.482009e+05          0.000000                    1.0   \n",
       "max     105.000000  1.174394e+06          1.000000                    1.0   \n",
       "\n",
       "       num_Products  num_loans     duration  \n",
       "count   2438.000000     2438.0  2438.000000  \n",
       "mean       1.277276        0.0  2648.244053  \n",
       "std        0.530003        0.0  1874.054211  \n",
       "min        0.000000        0.0   366.000000  \n",
       "25%        1.000000        0.0  1091.000000  \n",
       "50%        1.000000        0.0  1824.500000  \n",
       "75%        2.000000        0.0  4283.000000  \n",
       "max        4.000000        0.0  7879.000000  "
      ]
     },
     "execution_count": 77,
     "metadata": {},
     "output_type": "execute_result"
    }
   ],
   "source": [
    "Inactive_to_Active_End.describe()"
   ]
  },
  {
   "cell_type": "code",
   "execution_count": 78,
   "id": "f97e2970-e48e-4b9a-aba9-a0df81abdb4c",
   "metadata": {},
   "outputs": [
    {
     "data": {
      "text/plain": [
       "<AxesSubplot:>"
      ]
     },
     "execution_count": 78,
     "metadata": {},
     "output_type": "execute_result"
    },
    {
     "data": {
      "image/png": "[encoded data removed]",
      "text/plain": [
       "<Figure size 432x288 with 1 Axes>"
      ]
     },
     "metadata": {
      "needs_background": "light"
     },
     "output_type": "display_data"
    }
   ],
   "source": [
    "Inactive_to_Active_End['gender'].hist()"
   ]
  },
  {
   "cell_type": "code",
   "execution_count": 79,
   "id": "c98be299-515d-4ed4-8cb4-f93b4144097c",
   "metadata": {},
   "outputs": [
    {
     "data": {
      "text/plain": [
       "count     2438\n",
       "unique       2\n",
       "top          F\n",
       "freq      1294\n",
       "Name: gender, dtype: object"
      ]
     },
     "execution_count": 79,
     "metadata": {},
     "output_type": "execute_result"
    }
   ],
   "source": [
    "Inactive_to_Active_End['gender'].describe()"
   ]
  },
  {
   "cell_type": "code",
   "execution_count": 80,
   "id": "1c3dd569-2fd4-4f5c-8dc4-4c81139410d1",
   "metadata": {},
   "outputs": [],
   "source": [
    "Inactive_to_Active_End_male = Inactive_to_Active_End['gender'] == 'M'"
   ]
  },
  {
   "cell_type": "code",
   "execution_count": 81,
   "id": "26eeb095-8e67-4760-8deb-d83159422009",
   "metadata": {},
   "outputs": [],
   "source": [
    "Inactive_to_Active_End_female = Inactive_to_Active_End['gender'] == 'F'"
   ]
  },
  {
   "cell_type": "code",
   "execution_count": 87,
   "id": "07abe92f-389e-490a-9d74-e756fab4232b",
   "metadata": {},
   "outputs": [
    {
     "data": {
      "image/png": "[encoded data removed]",
      "text/plain": [
       "<Figure size 576x288 with 1 Axes>"
      ]
     },
     "metadata": {},
     "output_type": "display_data"
    }
   ],
   "source": [
    "plt.style.use('ggplot')\n",
    "plt.rcParams[\"figure.figsize\"] = [8.0, 4.0]\n",
    "plt.rcParams[\"figure.autolayout\"] = True\n",
    "plt.title('Number of Male and Female')\n",
    "bins = [0,20,40,60,80,100,120]\n",
    "plt.hist(Inactive_to_Active_End['age'][Inactive_to_Active_End_male], edgecolor='blue',color='red',bins = bins,label='Male',alpha=0.7,rwidth=0.9)\n",
    "plt.hist(Inactive_to_Active_End['age'][Inactive_to_Active_End_female], edgecolor='black',color='white',bins=bins,label='Female',alpha=0.6,rwidth=0.6)\n",
    "\n",
    "plt.legend(loc='upper right')\n",
    "\n",
    "plt.xlabel('Age')\n",
    "plt.ylabel('Number of People')\n",
    "\n",
    "plt.tight_layout()\n",
    "\n",
    "plt.show()"
   ]
  },
  {
   "cell_type": "markdown",
   "id": "bd99b2f3-1a53-4e5c-8e6e-b3184253df57",
   "metadata": {},
   "source": [
    "### As per the above analysis there are more people of age between 20 to 40 who were inactive at the start of the study and were active by the time\n",
    "-----------------------------------------------------------\n",
    "### Most of them are males from the study.\n",
    "-----------------------------------------------------------"
   ]
  },
  {
   "cell_type": "markdown",
   "id": "91fe4020-d6bf-447b-99e4-9150aa683a60",
   "metadata": {},
   "source": [
    "## Task 2.2 _ Do people with more than average annual income tend to have relatively high :\n",
    "## Activity rates compared to people with less than average annual income?"
   ]
  },
  {
   "cell_type": "code",
   "execution_count": 89,
   "id": "cc270d9a-c49c-4481-800c-705f7b8e227a",
   "metadata": {},
   "outputs": [
    {
     "data": {
      "text/html": [
       "<div>\n",
       "<style scoped>\n",
       "    .dataframe tbody tr th:only-of-type {\n",
       "        vertical-align: middle;\n",
       "    }\n",
       "\n",
       "    .dataframe tbody tr th {\n",
       "        vertical-align: top;\n",
       "    }\n",
       "\n",
       "    .dataframe thead th {\n",
       "        text-align: right;\n",
       "    }\n",
       "</style>\n",
       "<table border=\"1\" class=\"dataframe\">\n",
       "  <thead>\n",
       "    <tr style=\"text-align: right;\">\n",
       "      <th></th>\n",
       "      <th>gender</th>\n",
       "      <th>age</th>\n",
       "      <th>gross_income</th>\n",
       "      <th>segment</th>\n",
       "      <th>num_credit_cards</th>\n",
       "      <th>tiprel_1mes</th>\n",
       "      <th>ind_actividad_cliente</th>\n",
       "      <th>num_Products</th>\n",
       "      <th>num_loans</th>\n",
       "      <th>duration</th>\n",
       "    </tr>\n",
       "  </thead>\n",
       "  <tbody>\n",
       "    <tr>\n",
       "      <th>0</th>\n",
       "      <td>M</td>\n",
       "      <td>21</td>\n",
       "      <td>79070.91</td>\n",
       "      <td>Individuals</td>\n",
       "      <td>0</td>\n",
       "      <td>0</td>\n",
       "      <td>0</td>\n",
       "      <td>1</td>\n",
       "      <td>0</td>\n",
       "      <td>1035</td>\n",
       "    </tr>\n",
       "    <tr>\n",
       "      <th>1</th>\n",
       "      <td>M</td>\n",
       "      <td>23</td>\n",
       "      <td>178270.68</td>\n",
       "      <td>College_Graduated</td>\n",
       "      <td>0</td>\n",
       "      <td>0</td>\n",
       "      <td>0</td>\n",
       "      <td>1</td>\n",
       "      <td>0</td>\n",
       "      <td>1097</td>\n",
       "    </tr>\n",
       "    <tr>\n",
       "      <th>2</th>\n",
       "      <td>M</td>\n",
       "      <td>24</td>\n",
       "      <td>31243.56</td>\n",
       "      <td>College_Graduated</td>\n",
       "      <td>0</td>\n",
       "      <td>0</td>\n",
       "      <td>1</td>\n",
       "      <td>1</td>\n",
       "      <td>0</td>\n",
       "      <td>1866</td>\n",
       "    </tr>\n",
       "    <tr>\n",
       "      <th>3</th>\n",
       "      <td>M</td>\n",
       "      <td>24</td>\n",
       "      <td>130740.54</td>\n",
       "      <td>College_Graduated</td>\n",
       "      <td>0</td>\n",
       "      <td>0</td>\n",
       "      <td>0</td>\n",
       "      <td>1</td>\n",
       "      <td>0</td>\n",
       "      <td>1440</td>\n",
       "    </tr>\n",
       "    <tr>\n",
       "      <th>4</th>\n",
       "      <td>M</td>\n",
       "      <td>31</td>\n",
       "      <td>112975.17</td>\n",
       "      <td>Individuals</td>\n",
       "      <td>0</td>\n",
       "      <td>0</td>\n",
       "      <td>0</td>\n",
       "      <td>0</td>\n",
       "      <td>0</td>\n",
       "      <td>376</td>\n",
       "    </tr>\n",
       "  </tbody>\n",
       "</table>\n",
       "</div>"
      ],
      "text/plain": [
       "  gender  age  gross_income            segment  num_credit_cards tiprel_1mes  \\\n",
       "0      M   21      79070.91        Individuals                 0           0   \n",
       "1      M   23     178270.68  College_Graduated                 0           0   \n",
       "2      M   24      31243.56  College_Graduated                 0           0   \n",
       "3      M   24     130740.54  College_Graduated                 0           0   \n",
       "4      M   31     112975.17        Individuals                 0           0   \n",
       "\n",
       "   ind_actividad_cliente  num_Products  num_loans  duration  \n",
       "0                      0             1          0      1035  \n",
       "1                      0             1          0      1097  \n",
       "2                      1             1          0      1866  \n",
       "3                      0             1          0      1440  \n",
       "4                      0             0          0       376  "
      ]
     },
     "execution_count": 89,
     "metadata": {},
     "output_type": "execute_result"
    }
   ],
   "source": [
    "rda_dataframe_cleaned.head()"
   ]
  },
  {
   "cell_type": "code",
   "execution_count": 96,
   "id": "336ce561-600c-4516-b0db-13f239860f57",
   "metadata": {},
   "outputs": [],
   "source": [
    "GAI = rda_dataframe_cleaned[rda_dataframe_cleaned['gross_income']>rda_dataframe_cleaned['gross_income'].mean()] #GAI --> Greater Annual Income"
   ]
  },
  {
   "cell_type": "code",
   "execution_count": 97,
   "id": "ae60407e-64df-48d2-bcad-81d03275c699",
   "metadata": {},
   "outputs": [
    {
     "data": {
      "text/html": [
       "<div>\n",
       "<style scoped>\n",
       "    .dataframe tbody tr th:only-of-type {\n",
       "        vertical-align: middle;\n",
       "    }\n",
       "\n",
       "    .dataframe tbody tr th {\n",
       "        vertical-align: top;\n",
       "    }\n",
       "\n",
       "    .dataframe thead th {\n",
       "        text-align: right;\n",
       "    }\n",
       "</style>\n",
       "<table border=\"1\" class=\"dataframe\">\n",
       "  <thead>\n",
       "    <tr style=\"text-align: right;\">\n",
       "      <th></th>\n",
       "      <th>gender</th>\n",
       "      <th>age</th>\n",
       "      <th>gross_income</th>\n",
       "      <th>segment</th>\n",
       "      <th>num_credit_cards</th>\n",
       "      <th>tiprel_1mes</th>\n",
       "      <th>ind_actividad_cliente</th>\n",
       "      <th>num_Products</th>\n",
       "      <th>num_loans</th>\n",
       "      <th>duration</th>\n",
       "    </tr>\n",
       "  </thead>\n",
       "  <tbody>\n",
       "    <tr>\n",
       "      <th>1</th>\n",
       "      <td>M</td>\n",
       "      <td>23</td>\n",
       "      <td>178270.68</td>\n",
       "      <td>College_Graduated</td>\n",
       "      <td>0</td>\n",
       "      <td>0</td>\n",
       "      <td>0</td>\n",
       "      <td>1</td>\n",
       "      <td>0</td>\n",
       "      <td>1097</td>\n",
       "    </tr>\n",
       "    <tr>\n",
       "      <th>7</th>\n",
       "      <td>M</td>\n",
       "      <td>48</td>\n",
       "      <td>184641.60</td>\n",
       "      <td>Individuals</td>\n",
       "      <td>0</td>\n",
       "      <td>1</td>\n",
       "      <td>1</td>\n",
       "      <td>1</td>\n",
       "      <td>0</td>\n",
       "      <td>4066</td>\n",
       "    </tr>\n",
       "    <tr>\n",
       "      <th>8</th>\n",
       "      <td>F</td>\n",
       "      <td>36</td>\n",
       "      <td>164347.86</td>\n",
       "      <td>VIP</td>\n",
       "      <td>0</td>\n",
       "      <td>1</td>\n",
       "      <td>1</td>\n",
       "      <td>1</td>\n",
       "      <td>0</td>\n",
       "      <td>1427</td>\n",
       "    </tr>\n",
       "    <tr>\n",
       "      <th>10</th>\n",
       "      <td>F</td>\n",
       "      <td>46</td>\n",
       "      <td>256450.32</td>\n",
       "      <td>Individuals</td>\n",
       "      <td>0</td>\n",
       "      <td>0</td>\n",
       "      <td>0</td>\n",
       "      <td>0</td>\n",
       "      <td>0</td>\n",
       "      <td>6766</td>\n",
       "    </tr>\n",
       "    <tr>\n",
       "      <th>14</th>\n",
       "      <td>M</td>\n",
       "      <td>40</td>\n",
       "      <td>192617.13</td>\n",
       "      <td>Individuals</td>\n",
       "      <td>1</td>\n",
       "      <td>1</td>\n",
       "      <td>1</td>\n",
       "      <td>1</td>\n",
       "      <td>0</td>\n",
       "      <td>928</td>\n",
       "    </tr>\n",
       "  </tbody>\n",
       "</table>\n",
       "</div>"
      ],
      "text/plain": [
       "   gender  age  gross_income            segment  num_credit_cards tiprel_1mes  \\\n",
       "1       M   23     178270.68  College_Graduated                 0           0   \n",
       "7       M   48     184641.60        Individuals                 0           1   \n",
       "8       F   36     164347.86                VIP                 0           1   \n",
       "10      F   46     256450.32        Individuals                 0           0   \n",
       "14      M   40     192617.13        Individuals                 1           1   \n",
       "\n",
       "    ind_actividad_cliente  num_Products  num_loans  duration  \n",
       "1                       0             1          0      1097  \n",
       "7                       1             1          0      4066  \n",
       "8                       1             1          0      1427  \n",
       "10                      0             0          0      6766  \n",
       "14                      1             1          0       928  "
      ]
     },
     "execution_count": 97,
     "metadata": {},
     "output_type": "execute_result"
    }
   ],
   "source": [
    "GAI.head()"
   ]
  },
  {
   "cell_type": "code",
   "execution_count": 100,
   "id": "ad9c0dd5-d9b7-442e-8f5b-5d808820aefa",
   "metadata": {},
   "outputs": [],
   "source": [
    "LAI = rda_dataframe_cleaned[rda_dataframe_cleaned['gross_income']<=rda_dataframe_cleaned['gross_income'].mean()] #LAI ----> Less Annual Income"
   ]
  },
  {
   "cell_type": "code",
   "execution_count": 101,
   "id": "ae890e2e-b498-42a3-9e83-3b77c1ecc5eb",
   "metadata": {},
   "outputs": [
    {
     "data": {
      "text/html": [
       "<div>\n",
       "<style scoped>\n",
       "    .dataframe tbody tr th:only-of-type {\n",
       "        vertical-align: middle;\n",
       "    }\n",
       "\n",
       "    .dataframe tbody tr th {\n",
       "        vertical-align: top;\n",
       "    }\n",
       "\n",
       "    .dataframe thead th {\n",
       "        text-align: right;\n",
       "    }\n",
       "</style>\n",
       "<table border=\"1\" class=\"dataframe\">\n",
       "  <thead>\n",
       "    <tr style=\"text-align: right;\">\n",
       "      <th></th>\n",
       "      <th>gender</th>\n",
       "      <th>age</th>\n",
       "      <th>gross_income</th>\n",
       "      <th>segment</th>\n",
       "      <th>num_credit_cards</th>\n",
       "      <th>tiprel_1mes</th>\n",
       "      <th>ind_actividad_cliente</th>\n",
       "      <th>num_Products</th>\n",
       "      <th>num_loans</th>\n",
       "      <th>duration</th>\n",
       "    </tr>\n",
       "  </thead>\n",
       "  <tbody>\n",
       "    <tr>\n",
       "      <th>0</th>\n",
       "      <td>M</td>\n",
       "      <td>21</td>\n",
       "      <td>79070.91</td>\n",
       "      <td>Individuals</td>\n",
       "      <td>0</td>\n",
       "      <td>0</td>\n",
       "      <td>0</td>\n",
       "      <td>1</td>\n",
       "      <td>0</td>\n",
       "      <td>1035</td>\n",
       "    </tr>\n",
       "    <tr>\n",
       "      <th>2</th>\n",
       "      <td>M</td>\n",
       "      <td>24</td>\n",
       "      <td>31243.56</td>\n",
       "      <td>College_Graduated</td>\n",
       "      <td>0</td>\n",
       "      <td>0</td>\n",
       "      <td>1</td>\n",
       "      <td>1</td>\n",
       "      <td>0</td>\n",
       "      <td>1866</td>\n",
       "    </tr>\n",
       "    <tr>\n",
       "      <th>3</th>\n",
       "      <td>M</td>\n",
       "      <td>24</td>\n",
       "      <td>130740.54</td>\n",
       "      <td>College_Graduated</td>\n",
       "      <td>0</td>\n",
       "      <td>0</td>\n",
       "      <td>0</td>\n",
       "      <td>1</td>\n",
       "      <td>0</td>\n",
       "      <td>1440</td>\n",
       "    </tr>\n",
       "    <tr>\n",
       "      <th>4</th>\n",
       "      <td>M</td>\n",
       "      <td>31</td>\n",
       "      <td>112975.17</td>\n",
       "      <td>Individuals</td>\n",
       "      <td>0</td>\n",
       "      <td>0</td>\n",
       "      <td>0</td>\n",
       "      <td>0</td>\n",
       "      <td>0</td>\n",
       "      <td>376</td>\n",
       "    </tr>\n",
       "    <tr>\n",
       "      <th>5</th>\n",
       "      <td>F</td>\n",
       "      <td>32</td>\n",
       "      <td>37318.56</td>\n",
       "      <td>Individuals</td>\n",
       "      <td>0</td>\n",
       "      <td>1</td>\n",
       "      <td>1</td>\n",
       "      <td>4</td>\n",
       "      <td>0</td>\n",
       "      <td>699</td>\n",
       "    </tr>\n",
       "  </tbody>\n",
       "</table>\n",
       "</div>"
      ],
      "text/plain": [
       "  gender  age  gross_income            segment  num_credit_cards tiprel_1mes  \\\n",
       "0      M   21      79070.91        Individuals                 0           0   \n",
       "2      M   24      31243.56  College_Graduated                 0           0   \n",
       "3      M   24     130740.54  College_Graduated                 0           0   \n",
       "4      M   31     112975.17        Individuals                 0           0   \n",
       "5      F   32      37318.56        Individuals                 0           1   \n",
       "\n",
       "   ind_actividad_cliente  num_Products  num_loans  duration  \n",
       "0                      0             1          0      1035  \n",
       "2                      1             1          0      1866  \n",
       "3                      0             1          0      1440  \n",
       "4                      0             0          0       376  \n",
       "5                      1             4          0       699  "
      ]
     },
     "execution_count": 101,
     "metadata": {},
     "output_type": "execute_result"
    }
   ],
   "source": [
    "LAI.head()"
   ]
  },
  {
   "cell_type": "code",
   "execution_count": 102,
   "id": "922b3199-fe4f-4a2f-a9f8-9545f1f28a36",
   "metadata": {},
   "outputs": [
    {
     "data": {
      "text/plain": [
       "0.5192883366280712"
      ]
     },
     "execution_count": 102,
     "metadata": {},
     "output_type": "execute_result"
    }
   ],
   "source": [
    "GAI.tiprel_1mes.sum()/GAI.tiprel_1mes.count()"
   ]
  },
  {
   "cell_type": "code",
   "execution_count": 103,
   "id": "62134138-2e7b-41b9-9e4e-e2c656ce36dc",
   "metadata": {},
   "outputs": [
    {
     "data": {
      "text/plain": [
       "0.5208133295679187"
      ]
     },
     "execution_count": 103,
     "metadata": {},
     "output_type": "execute_result"
    }
   ],
   "source": [
    "GAI.ind_actividad_cliente.sum()/GAI.ind_actividad_cliente.count()"
   ]
  },
  {
   "cell_type": "code",
   "execution_count": 104,
   "id": "60a13b8e-713a-4a33-b20c-5a1ff10f0ecf",
   "metadata": {},
   "outputs": [
    {
     "data": {
      "text/plain": [
       "0.435237439779766"
      ]
     },
     "execution_count": 104,
     "metadata": {},
     "output_type": "execute_result"
    }
   ],
   "source": [
    "LAI.tiprel_1mes.sum()/LAI.tiprel_1mes.count()"
   ]
  },
  {
   "cell_type": "code",
   "execution_count": 105,
   "id": "6fdaad7c-3bf0-4917-a8b8-e4a27b7e8da3",
   "metadata": {},
   "outputs": [
    {
     "data": {
      "text/plain": [
       "0.4438540949759119"
      ]
     },
     "execution_count": 105,
     "metadata": {},
     "output_type": "execute_result"
    }
   ],
   "source": [
    "LAI.ind_actividad_cliente.sum()/LAI.ind_actividad_cliente.count()"
   ]
  },
  {
   "cell_type": "markdown",
   "id": "e9f610fa-bce9-47fa-b49d-b566b76d83f2",
   "metadata": {},
   "source": [
    "--------------------------------------------------------------------\n",
    "### As per the above findings in both at the start and end of the period people with more than average annual _***\"Income tend to have relatively high activity rates compared to people with less than average annual income\"***_\n",
    "--------------------------------------------------------------------"
   ]
  },
  {
   "cell_type": "markdown",
   "id": "9b25a95c-3b91-4886-8b01-f797d6028702",
   "metadata": {},
   "source": [
    "### Task 2.3 _ What is the relationship between the number of products owned by customers who were active at the start and at the end vs those who were active at the start but were inactive at the end of the study period?"
   ]
  },
  {
   "cell_type": "code",
   "execution_count": 205,
   "id": "3f34ae47-8dcd-4cba-be24-0b8f0fb1c805",
   "metadata": {},
   "outputs": [],
   "source": [
    "people_active_at_start_and_end = rda_dataframe_cleaned[(rda_dataframe_cleaned['tiprel_1mes'] == 1) & (rda_dataframe_cleaned['ind_actividad_cliente'] == 1) ]"
   ]
  },
  {
   "cell_type": "code",
   "execution_count": 206,
   "id": "1db60138-477f-4100-bb7c-57ad2bc7ecd3",
   "metadata": {},
   "outputs": [],
   "source": [
    "people_active_at_start_inactive_at_end = rda_dataframe_cleaned[(rda_dataframe_cleaned['tiprel_1mes'] == 1) & (rda_dataframe_cleaned['ind_actividad_cliente'] == 0) ]"
   ]
  },
  {
   "cell_type": "code",
   "execution_count": 207,
   "id": "d47195cd-bccc-4ab8-873d-e9a0109a5ff9",
   "metadata": {},
   "outputs": [],
   "source": [
    "people_active_at_start_and_end_products = people_active_at_start_and_end['num_Products'].sum()"
   ]
  },
  {
   "cell_type": "code",
   "execution_count": 208,
   "id": "3b8e5774-7c84-4278-8aec-f1ec71055c63",
   "metadata": {},
   "outputs": [
    {
     "data": {
      "text/plain": [
       "59112"
      ]
     },
     "execution_count": 208,
     "metadata": {},
     "output_type": "execute_result"
    }
   ],
   "source": [
    "people_active_at_start_and_end_products"
   ]
  },
  {
   "cell_type": "code",
   "execution_count": 209,
   "id": "5cd37e5e-67fa-4fd5-8f72-00dcd1cb0965",
   "metadata": {},
   "outputs": [
    {
     "data": {
      "text/plain": [
       "2.580633895049332"
      ]
     },
     "execution_count": 209,
     "metadata": {},
     "output_type": "execute_result"
    }
   ],
   "source": [
    "people_active_at_start_and_end_products/people_active_at_start_and_end['num_Products'].count()"
   ]
  },
  {
   "cell_type": "code",
   "execution_count": 211,
   "id": "0e75aa1d-d308-4f49-a5c0-fb2b88d00e9a",
   "metadata": {},
   "outputs": [],
   "source": [
    "people_active_at_start_inactive_at_end_products = people_active_at_start_inactive_at_end['num_Products'].sum()"
   ]
  },
  {
   "cell_type": "code",
   "execution_count": 212,
   "id": "46ca3046-6ee5-4e2f-b7df-b60a8bbc0f2d",
   "metadata": {},
   "outputs": [
    {
     "data": {
      "text/plain": [
       "1635"
      ]
     },
     "execution_count": 212,
     "metadata": {},
     "output_type": "execute_result"
    }
   ],
   "source": [
    "people_active_at_start_inactive_at_end_products"
   ]
  },
  {
   "cell_type": "code",
   "execution_count": 213,
   "id": "fc26da14-98eb-4533-b2b2-2e01af0243e8",
   "metadata": {},
   "outputs": [
    {
     "data": {
      "text/plain": [
       "0.7793136320305052"
      ]
     },
     "execution_count": 213,
     "metadata": {},
     "output_type": "execute_result"
    }
   ],
   "source": [
    "people_active_at_start_inactive_at_end_products/people_active_at_start_inactive_at_end['num_Products'].count()"
   ]
  },
  {
   "cell_type": "markdown",
   "id": "af43a2c9-f418-4554-a5b4-3d685eec10aa",
   "metadata": {},
   "source": [
    "### Finding from the above is that \n",
    "\"***people active at the start and at the end has more number of products than who were active at the start but were inactive at the end of the study period***\""
   ]
  },
  {
   "cell_type": "code",
   "execution_count": 214,
   "id": "c2de9569-bb37-4937-84ca-9ecab2d38605",
   "metadata": {},
   "outputs": [
    {
     "data": {
      "text/html": [
       "<div>\n",
       "<style scoped>\n",
       "    .dataframe tbody tr th:only-of-type {\n",
       "        vertical-align: middle;\n",
       "    }\n",
       "\n",
       "    .dataframe tbody tr th {\n",
       "        vertical-align: top;\n",
       "    }\n",
       "\n",
       "    .dataframe thead th {\n",
       "        text-align: right;\n",
       "    }\n",
       "</style>\n",
       "<table border=\"1\" class=\"dataframe\">\n",
       "  <thead>\n",
       "    <tr style=\"text-align: right;\">\n",
       "      <th></th>\n",
       "      <th>gender</th>\n",
       "      <th>age</th>\n",
       "      <th>gross_income</th>\n",
       "      <th>segment</th>\n",
       "      <th>num_credit_cards</th>\n",
       "      <th>tiprel_1mes</th>\n",
       "      <th>ind_actividad_cliente</th>\n",
       "      <th>num_Products</th>\n",
       "      <th>num_loans</th>\n",
       "      <th>duration</th>\n",
       "    </tr>\n",
       "  </thead>\n",
       "  <tbody>\n",
       "    <tr>\n",
       "      <th>0</th>\n",
       "      <td>M</td>\n",
       "      <td>21</td>\n",
       "      <td>79070.91</td>\n",
       "      <td>Individuals</td>\n",
       "      <td>0</td>\n",
       "      <td>0</td>\n",
       "      <td>0</td>\n",
       "      <td>1</td>\n",
       "      <td>0</td>\n",
       "      <td>1035</td>\n",
       "    </tr>\n",
       "    <tr>\n",
       "      <th>1</th>\n",
       "      <td>M</td>\n",
       "      <td>23</td>\n",
       "      <td>178270.68</td>\n",
       "      <td>College_Graduated</td>\n",
       "      <td>0</td>\n",
       "      <td>0</td>\n",
       "      <td>0</td>\n",
       "      <td>1</td>\n",
       "      <td>0</td>\n",
       "      <td>1097</td>\n",
       "    </tr>\n",
       "    <tr>\n",
       "      <th>2</th>\n",
       "      <td>M</td>\n",
       "      <td>24</td>\n",
       "      <td>31243.56</td>\n",
       "      <td>College_Graduated</td>\n",
       "      <td>0</td>\n",
       "      <td>0</td>\n",
       "      <td>1</td>\n",
       "      <td>1</td>\n",
       "      <td>0</td>\n",
       "      <td>1866</td>\n",
       "    </tr>\n",
       "    <tr>\n",
       "      <th>3</th>\n",
       "      <td>M</td>\n",
       "      <td>24</td>\n",
       "      <td>130740.54</td>\n",
       "      <td>College_Graduated</td>\n",
       "      <td>0</td>\n",
       "      <td>0</td>\n",
       "      <td>0</td>\n",
       "      <td>1</td>\n",
       "      <td>0</td>\n",
       "      <td>1440</td>\n",
       "    </tr>\n",
       "    <tr>\n",
       "      <th>4</th>\n",
       "      <td>M</td>\n",
       "      <td>31</td>\n",
       "      <td>112975.17</td>\n",
       "      <td>Individuals</td>\n",
       "      <td>0</td>\n",
       "      <td>0</td>\n",
       "      <td>0</td>\n",
       "      <td>0</td>\n",
       "      <td>0</td>\n",
       "      <td>376</td>\n",
       "    </tr>\n",
       "  </tbody>\n",
       "</table>\n",
       "</div>"
      ],
      "text/plain": [
       "  gender  age  gross_income            segment  num_credit_cards tiprel_1mes  \\\n",
       "0      M   21      79070.91        Individuals                 0           0   \n",
       "1      M   23     178270.68  College_Graduated                 0           0   \n",
       "2      M   24      31243.56  College_Graduated                 0           0   \n",
       "3      M   24     130740.54  College_Graduated                 0           0   \n",
       "4      M   31     112975.17        Individuals                 0           0   \n",
       "\n",
       "   ind_actividad_cliente  num_Products  num_loans  duration  \n",
       "0                      0             1          0      1035  \n",
       "1                      0             1          0      1097  \n",
       "2                      1             1          0      1866  \n",
       "3                      0             1          0      1440  \n",
       "4                      0             0          0       376  "
      ]
     },
     "execution_count": 214,
     "metadata": {},
     "output_type": "execute_result"
    }
   ],
   "source": [
    "rda_dataframe_cleaned.head()"
   ]
  },
  {
   "cell_type": "markdown",
   "id": "81c42670-b9b0-4f5f-a858-bf8118a2d0b3",
   "metadata": {},
   "source": [
    "### Task 2.4 _ How people who display consistent behaviour (active at start and active at end, inactive at start and inactive at end) differ from people who display a change in their behaviour (active at start but inactive at the end or inactive at start but active at end)?"
   ]
  },
  {
   "cell_type": "code",
   "execution_count": 217,
   "id": "eb725638-2db3-4c86-9ea5-26e46b47e215",
   "metadata": {},
   "outputs": [],
   "source": [
    "people_inactive_at_start_and_end = rda_dataframe_cleaned[(rda_dataframe_cleaned['tiprel_1mes'] == 0) & (rda_dataframe_cleaned['ind_actividad_cliente'] == 0) ]"
   ]
  },
  {
   "cell_type": "code",
   "execution_count": 218,
   "id": "f4b65b4f-d06c-42f2-ab48-950fecf079d7",
   "metadata": {},
   "outputs": [
    {
     "data": {
      "text/html": [
       "<div>\n",
       "<style scoped>\n",
       "    .dataframe tbody tr th:only-of-type {\n",
       "        vertical-align: middle;\n",
       "    }\n",
       "\n",
       "    .dataframe tbody tr th {\n",
       "        vertical-align: top;\n",
       "    }\n",
       "\n",
       "    .dataframe thead th {\n",
       "        text-align: right;\n",
       "    }\n",
       "</style>\n",
       "<table border=\"1\" class=\"dataframe\">\n",
       "  <thead>\n",
       "    <tr style=\"text-align: right;\">\n",
       "      <th></th>\n",
       "      <th>gender</th>\n",
       "      <th>age</th>\n",
       "      <th>gross_income</th>\n",
       "      <th>segment</th>\n",
       "      <th>num_credit_cards</th>\n",
       "      <th>tiprel_1mes</th>\n",
       "      <th>ind_actividad_cliente</th>\n",
       "      <th>num_Products</th>\n",
       "      <th>num_loans</th>\n",
       "      <th>duration</th>\n",
       "    </tr>\n",
       "  </thead>\n",
       "  <tbody>\n",
       "    <tr>\n",
       "      <th>0</th>\n",
       "      <td>M</td>\n",
       "      <td>21</td>\n",
       "      <td>79070.91</td>\n",
       "      <td>Individuals</td>\n",
       "      <td>0</td>\n",
       "      <td>0</td>\n",
       "      <td>0</td>\n",
       "      <td>1</td>\n",
       "      <td>0</td>\n",
       "      <td>1035</td>\n",
       "    </tr>\n",
       "    <tr>\n",
       "      <th>1</th>\n",
       "      <td>M</td>\n",
       "      <td>23</td>\n",
       "      <td>178270.68</td>\n",
       "      <td>College_Graduated</td>\n",
       "      <td>0</td>\n",
       "      <td>0</td>\n",
       "      <td>0</td>\n",
       "      <td>1</td>\n",
       "      <td>0</td>\n",
       "      <td>1097</td>\n",
       "    </tr>\n",
       "    <tr>\n",
       "      <th>3</th>\n",
       "      <td>M</td>\n",
       "      <td>24</td>\n",
       "      <td>130740.54</td>\n",
       "      <td>College_Graduated</td>\n",
       "      <td>0</td>\n",
       "      <td>0</td>\n",
       "      <td>0</td>\n",
       "      <td>1</td>\n",
       "      <td>0</td>\n",
       "      <td>1440</td>\n",
       "    </tr>\n",
       "    <tr>\n",
       "      <th>4</th>\n",
       "      <td>M</td>\n",
       "      <td>31</td>\n",
       "      <td>112975.17</td>\n",
       "      <td>Individuals</td>\n",
       "      <td>0</td>\n",
       "      <td>0</td>\n",
       "      <td>0</td>\n",
       "      <td>0</td>\n",
       "      <td>0</td>\n",
       "      <td>376</td>\n",
       "    </tr>\n",
       "    <tr>\n",
       "      <th>10</th>\n",
       "      <td>F</td>\n",
       "      <td>46</td>\n",
       "      <td>256450.32</td>\n",
       "      <td>Individuals</td>\n",
       "      <td>0</td>\n",
       "      <td>0</td>\n",
       "      <td>0</td>\n",
       "      <td>0</td>\n",
       "      <td>0</td>\n",
       "      <td>6766</td>\n",
       "    </tr>\n",
       "  </tbody>\n",
       "</table>\n",
       "</div>"
      ],
      "text/plain": [
       "   gender  age  gross_income            segment  num_credit_cards tiprel_1mes  \\\n",
       "0       M   21      79070.91        Individuals                 0           0   \n",
       "1       M   23     178270.68  College_Graduated                 0           0   \n",
       "3       M   24     130740.54  College_Graduated                 0           0   \n",
       "4       M   31     112975.17        Individuals                 0           0   \n",
       "10      F   46     256450.32        Individuals                 0           0   \n",
       "\n",
       "    ind_actividad_cliente  num_Products  num_loans  duration  \n",
       "0                       0             1          0      1035  \n",
       "1                       0             1          0      1097  \n",
       "3                       0             1          0      1440  \n",
       "4                       0             0          0       376  \n",
       "10                      0             0          0      6766  "
      ]
     },
     "execution_count": 218,
     "metadata": {},
     "output_type": "execute_result"
    }
   ],
   "source": [
    "people_inactive_at_start_and_end.head()"
   ]
  },
  {
   "cell_type": "code",
   "execution_count": 219,
   "id": "658b300a-d584-4b13-9f19-37cb504dc4cb",
   "metadata": {},
   "outputs": [
    {
     "data": {
      "text/html": [
       "<div>\n",
       "<style scoped>\n",
       "    .dataframe tbody tr th:only-of-type {\n",
       "        vertical-align: middle;\n",
       "    }\n",
       "\n",
       "    .dataframe tbody tr th {\n",
       "        vertical-align: top;\n",
       "    }\n",
       "\n",
       "    .dataframe thead th {\n",
       "        text-align: right;\n",
       "    }\n",
       "</style>\n",
       "<table border=\"1\" class=\"dataframe\">\n",
       "  <thead>\n",
       "    <tr style=\"text-align: right;\">\n",
       "      <th></th>\n",
       "      <th>gender</th>\n",
       "      <th>age</th>\n",
       "      <th>gross_income</th>\n",
       "      <th>segment</th>\n",
       "      <th>num_credit_cards</th>\n",
       "      <th>tiprel_1mes</th>\n",
       "      <th>ind_actividad_cliente</th>\n",
       "      <th>num_Products</th>\n",
       "      <th>num_loans</th>\n",
       "      <th>duration</th>\n",
       "    </tr>\n",
       "  </thead>\n",
       "  <tbody>\n",
       "    <tr>\n",
       "      <th>5</th>\n",
       "      <td>F</td>\n",
       "      <td>32</td>\n",
       "      <td>37318.56</td>\n",
       "      <td>Individuals</td>\n",
       "      <td>0</td>\n",
       "      <td>1</td>\n",
       "      <td>1</td>\n",
       "      <td>4</td>\n",
       "      <td>0</td>\n",
       "      <td>699</td>\n",
       "    </tr>\n",
       "    <tr>\n",
       "      <th>7</th>\n",
       "      <td>M</td>\n",
       "      <td>48</td>\n",
       "      <td>184641.60</td>\n",
       "      <td>Individuals</td>\n",
       "      <td>0</td>\n",
       "      <td>1</td>\n",
       "      <td>1</td>\n",
       "      <td>1</td>\n",
       "      <td>0</td>\n",
       "      <td>4066</td>\n",
       "    </tr>\n",
       "    <tr>\n",
       "      <th>8</th>\n",
       "      <td>F</td>\n",
       "      <td>36</td>\n",
       "      <td>164347.86</td>\n",
       "      <td>VIP</td>\n",
       "      <td>0</td>\n",
       "      <td>1</td>\n",
       "      <td>1</td>\n",
       "      <td>1</td>\n",
       "      <td>0</td>\n",
       "      <td>1427</td>\n",
       "    </tr>\n",
       "    <tr>\n",
       "      <th>11</th>\n",
       "      <td>F</td>\n",
       "      <td>42</td>\n",
       "      <td>133268.46</td>\n",
       "      <td>Individuals</td>\n",
       "      <td>0</td>\n",
       "      <td>1</td>\n",
       "      <td>1</td>\n",
       "      <td>2</td>\n",
       "      <td>0</td>\n",
       "      <td>6446</td>\n",
       "    </tr>\n",
       "    <tr>\n",
       "      <th>13</th>\n",
       "      <td>M</td>\n",
       "      <td>33</td>\n",
       "      <td>77878.38</td>\n",
       "      <td>College_Graduated</td>\n",
       "      <td>0</td>\n",
       "      <td>1</td>\n",
       "      <td>1</td>\n",
       "      <td>1</td>\n",
       "      <td>0</td>\n",
       "      <td>766</td>\n",
       "    </tr>\n",
       "    <tr>\n",
       "      <th>...</th>\n",
       "      <td>...</td>\n",
       "      <td>...</td>\n",
       "      <td>...</td>\n",
       "      <td>...</td>\n",
       "      <td>...</td>\n",
       "      <td>...</td>\n",
       "      <td>...</td>\n",
       "      <td>...</td>\n",
       "      <td>...</td>\n",
       "      <td>...</td>\n",
       "    </tr>\n",
       "    <tr>\n",
       "      <th>54015</th>\n",
       "      <td>M</td>\n",
       "      <td>20</td>\n",
       "      <td>116361.21</td>\n",
       "      <td>College_Graduated</td>\n",
       "      <td>0</td>\n",
       "      <td>1</td>\n",
       "      <td>1</td>\n",
       "      <td>1</td>\n",
       "      <td>0</td>\n",
       "      <td>418</td>\n",
       "    </tr>\n",
       "    <tr>\n",
       "      <th>54018</th>\n",
       "      <td>F</td>\n",
       "      <td>78</td>\n",
       "      <td>99018.39</td>\n",
       "      <td>VIP</td>\n",
       "      <td>0</td>\n",
       "      <td>1</td>\n",
       "      <td>1</td>\n",
       "      <td>4</td>\n",
       "      <td>0</td>\n",
       "      <td>4741</td>\n",
       "    </tr>\n",
       "    <tr>\n",
       "      <th>54021</th>\n",
       "      <td>M</td>\n",
       "      <td>24</td>\n",
       "      <td>68385.87</td>\n",
       "      <td>College_Graduated</td>\n",
       "      <td>0</td>\n",
       "      <td>1</td>\n",
       "      <td>1</td>\n",
       "      <td>1</td>\n",
       "      <td>0</td>\n",
       "      <td>1838</td>\n",
       "    </tr>\n",
       "    <tr>\n",
       "      <th>54022</th>\n",
       "      <td>F</td>\n",
       "      <td>65</td>\n",
       "      <td>266600.04</td>\n",
       "      <td>Individuals</td>\n",
       "      <td>1</td>\n",
       "      <td>1</td>\n",
       "      <td>1</td>\n",
       "      <td>2</td>\n",
       "      <td>0</td>\n",
       "      <td>3722</td>\n",
       "    </tr>\n",
       "    <tr>\n",
       "      <th>54026</th>\n",
       "      <td>F</td>\n",
       "      <td>46</td>\n",
       "      <td>106930.05</td>\n",
       "      <td>Individuals</td>\n",
       "      <td>1</td>\n",
       "      <td>1</td>\n",
       "      <td>1</td>\n",
       "      <td>8</td>\n",
       "      <td>0</td>\n",
       "      <td>6061</td>\n",
       "    </tr>\n",
       "  </tbody>\n",
       "</table>\n",
       "<p>22906 rows × 10 columns</p>\n",
       "</div>"
      ],
      "text/plain": [
       "      gender  age  gross_income            segment  num_credit_cards  \\\n",
       "5          F   32      37318.56        Individuals                 0   \n",
       "7          M   48     184641.60        Individuals                 0   \n",
       "8          F   36     164347.86                VIP                 0   \n",
       "11         F   42     133268.46        Individuals                 0   \n",
       "13         M   33      77878.38  College_Graduated                 0   \n",
       "...      ...  ...           ...                ...               ...   \n",
       "54015      M   20     116361.21  College_Graduated                 0   \n",
       "54018      F   78      99018.39                VIP                 0   \n",
       "54021      M   24      68385.87  College_Graduated                 0   \n",
       "54022      F   65     266600.04        Individuals                 1   \n",
       "54026      F   46     106930.05        Individuals                 1   \n",
       "\n",
       "      tiprel_1mes  ind_actividad_cliente  num_Products  num_loans  duration  \n",
       "5               1                      1             4          0       699  \n",
       "7               1                      1             1          0      4066  \n",
       "8               1                      1             1          0      1427  \n",
       "11              1                      1             2          0      6446  \n",
       "13              1                      1             1          0       766  \n",
       "...           ...                    ...           ...        ...       ...  \n",
       "54015           1                      1             1          0       418  \n",
       "54018           1                      1             4          0      4741  \n",
       "54021           1                      1             1          0      1838  \n",
       "54022           1                      1             2          0      3722  \n",
       "54026           1                      1             8          0      6061  \n",
       "\n",
       "[22906 rows x 10 columns]"
      ]
     },
     "execution_count": 219,
     "metadata": {},
     "output_type": "execute_result"
    }
   ],
   "source": [
    "people_active_at_start_and_end"
   ]
  },
  {
   "cell_type": "code",
   "execution_count": 220,
   "id": "e610925c-fdb2-4022-ac76-a8d787d27482",
   "metadata": {},
   "outputs": [
    {
     "data": {
      "text/plain": [
       "<AxesSubplot:>"
      ]
     },
     "execution_count": 220,
     "metadata": {},
     "output_type": "execute_result"
    },
    {
     "data": {
      "image/png": "[encoded data removed]",
      "text/plain": [
       "<Figure size 576x288 with 1 Axes>"
      ]
     },
     "metadata": {},
     "output_type": "display_data"
    }
   ],
   "source": [
    "people_active_at_start_and_end['segment'].hist()\n",
    "people_inactive_at_start_and_end['segment'].hist()"
   ]
  },
  {
   "cell_type": "code",
   "execution_count": 221,
   "id": "42ed609b-f148-410e-9785-a1a0f601ff54",
   "metadata": {},
   "outputs": [
    {
     "data": {
      "text/plain": [
       "<AxesSubplot:>"
      ]
     },
     "execution_count": 221,
     "metadata": {},
     "output_type": "execute_result"
    },
    {
     "data": {
      "image/png": "[encoded data removed]",
      "text/plain": [
       "<Figure size 576x288 with 1 Axes>"
      ]
     },
     "metadata": {},
     "output_type": "display_data"
    }
   ],
   "source": [
    "people_inactive_at_start_and_end['segment'].hist()"
   ]
  },
  {
   "cell_type": "code",
   "execution_count": 222,
   "id": "07c750e1-f936-4b37-bc60-d9371758bc47",
   "metadata": {},
   "outputs": [
    {
     "data": {
      "text/plain": [
       "<AxesSubplot:>"
      ]
     },
     "execution_count": 222,
     "metadata": {},
     "output_type": "execute_result"
    },
    {
     "data": {
      "image/png": "[encoded data removed]",
      "text/plain": [
       "<Figure size 576x288 with 1 Axes>"
      ]
     },
     "metadata": {},
     "output_type": "display_data"
    }
   ],
   "source": [
    "people_active_at_start_inactive_at_end['segment'].hist()"
   ]
  },
  {
   "cell_type": "code",
   "execution_count": 223,
   "id": "66af7343-82b9-40e7-a853-b67b96dbe92c",
   "metadata": {},
   "outputs": [
    {
     "data": {
      "text/plain": [
       "<AxesSubplot:>"
      ]
     },
     "execution_count": 223,
     "metadata": {},
     "output_type": "execute_result"
    },
    {
     "data": {
      "image/png": "[encoded data removed]",
      "text/plain": [
       "<Figure size 576x288 with 1 Axes>"
      ]
     },
     "metadata": {},
     "output_type": "display_data"
    }
   ],
   "source": [
    "inactive_at_start_and_active_at_end_people['segment'].hist()\n",
    "people_active_at_start_inactive_at_end['segment'].hist()"
   ]
  },
  {
   "cell_type": "code",
   "execution_count": 224,
   "id": "9c6dfce3-ec52-4756-bada-cd3cbc4b668e",
   "metadata": {},
   "outputs": [
    {
     "data": {
      "text/html": [
       "<div>\n",
       "<style scoped>\n",
       "    .dataframe tbody tr th:only-of-type {\n",
       "        vertical-align: middle;\n",
       "    }\n",
       "\n",
       "    .dataframe tbody tr th {\n",
       "        vertical-align: top;\n",
       "    }\n",
       "\n",
       "    .dataframe thead th {\n",
       "        text-align: right;\n",
       "    }\n",
       "</style>\n",
       "<table border=\"1\" class=\"dataframe\">\n",
       "  <thead>\n",
       "    <tr style=\"text-align: right;\">\n",
       "      <th></th>\n",
       "      <th>gender</th>\n",
       "      <th>age</th>\n",
       "      <th>gross_income</th>\n",
       "      <th>segment</th>\n",
       "      <th>num_credit_cards</th>\n",
       "      <th>tiprel_1mes</th>\n",
       "      <th>ind_actividad_cliente</th>\n",
       "      <th>num_Products</th>\n",
       "      <th>num_loans</th>\n",
       "      <th>duration</th>\n",
       "    </tr>\n",
       "  </thead>\n",
       "  <tbody>\n",
       "    <tr>\n",
       "      <th>5</th>\n",
       "      <td>F</td>\n",
       "      <td>32</td>\n",
       "      <td>37318.56</td>\n",
       "      <td>Individuals</td>\n",
       "      <td>0</td>\n",
       "      <td>1</td>\n",
       "      <td>1</td>\n",
       "      <td>4</td>\n",
       "      <td>0</td>\n",
       "      <td>699</td>\n",
       "    </tr>\n",
       "    <tr>\n",
       "      <th>7</th>\n",
       "      <td>M</td>\n",
       "      <td>48</td>\n",
       "      <td>184641.60</td>\n",
       "      <td>Individuals</td>\n",
       "      <td>0</td>\n",
       "      <td>1</td>\n",
       "      <td>1</td>\n",
       "      <td>1</td>\n",
       "      <td>0</td>\n",
       "      <td>4066</td>\n",
       "    </tr>\n",
       "    <tr>\n",
       "      <th>8</th>\n",
       "      <td>F</td>\n",
       "      <td>36</td>\n",
       "      <td>164347.86</td>\n",
       "      <td>VIP</td>\n",
       "      <td>0</td>\n",
       "      <td>1</td>\n",
       "      <td>1</td>\n",
       "      <td>1</td>\n",
       "      <td>0</td>\n",
       "      <td>1427</td>\n",
       "    </tr>\n",
       "    <tr>\n",
       "      <th>11</th>\n",
       "      <td>F</td>\n",
       "      <td>42</td>\n",
       "      <td>133268.46</td>\n",
       "      <td>Individuals</td>\n",
       "      <td>0</td>\n",
       "      <td>1</td>\n",
       "      <td>1</td>\n",
       "      <td>2</td>\n",
       "      <td>0</td>\n",
       "      <td>6446</td>\n",
       "    </tr>\n",
       "    <tr>\n",
       "      <th>13</th>\n",
       "      <td>M</td>\n",
       "      <td>33</td>\n",
       "      <td>77878.38</td>\n",
       "      <td>College_Graduated</td>\n",
       "      <td>0</td>\n",
       "      <td>1</td>\n",
       "      <td>1</td>\n",
       "      <td>1</td>\n",
       "      <td>0</td>\n",
       "      <td>766</td>\n",
       "    </tr>\n",
       "  </tbody>\n",
       "</table>\n",
       "</div>"
      ],
      "text/plain": [
       "   gender  age  gross_income            segment  num_credit_cards tiprel_1mes  \\\n",
       "5       F   32      37318.56        Individuals                 0           1   \n",
       "7       M   48     184641.60        Individuals                 0           1   \n",
       "8       F   36     164347.86                VIP                 0           1   \n",
       "11      F   42     133268.46        Individuals                 0           1   \n",
       "13      M   33      77878.38  College_Graduated                 0           1   \n",
       "\n",
       "    ind_actividad_cliente  num_Products  num_loans  duration  \n",
       "5                       1             4          0       699  \n",
       "7                       1             1          0      4066  \n",
       "8                       1             1          0      1427  \n",
       "11                      1             2          0      6446  \n",
       "13                      1             1          0       766  "
      ]
     },
     "execution_count": 224,
     "metadata": {},
     "output_type": "execute_result"
    }
   ],
   "source": [
    "people_active_at_start_and_end.head()"
   ]
  },
  {
   "cell_type": "markdown",
   "id": "21dbf78b-d512-4fda-af48-cd4f1d24b221",
   "metadata": {},
   "source": [
    "### From the above plots we can see that, \n",
    "\"***Consistent people includes more VIP's***\""
   ]
  },
  {
   "cell_type": "markdown",
   "id": "8894bde4-0168-453f-bfad-2e9ef9c72d35",
   "metadata": {},
   "source": [
    "### Task 2.5 - a _ Active at the start but inactive at the end :"
   ]
  },
  {
   "cell_type": "code",
   "execution_count": 236,
   "id": "3ad6dce0-d583-417f-bd55-6651b47bbe57",
   "metadata": {},
   "outputs": [
    {
     "data": {
      "text/html": [
       "<div>\n",
       "<style scoped>\n",
       "    .dataframe tbody tr th:only-of-type {\n",
       "        vertical-align: middle;\n",
       "    }\n",
       "\n",
       "    .dataframe tbody tr th {\n",
       "        vertical-align: top;\n",
       "    }\n",
       "\n",
       "    .dataframe thead th {\n",
       "        text-align: right;\n",
       "    }\n",
       "</style>\n",
       "<table border=\"1\" class=\"dataframe\">\n",
       "  <thead>\n",
       "    <tr style=\"text-align: right;\">\n",
       "      <th></th>\n",
       "      <th>gender</th>\n",
       "      <th>age</th>\n",
       "      <th>gross_income</th>\n",
       "      <th>segment</th>\n",
       "      <th>num_credit_cards</th>\n",
       "      <th>tiprel_1mes</th>\n",
       "      <th>ind_actividad_cliente</th>\n",
       "      <th>num_Products</th>\n",
       "      <th>num_loans</th>\n",
       "      <th>duration</th>\n",
       "    </tr>\n",
       "  </thead>\n",
       "  <tbody>\n",
       "    <tr>\n",
       "      <th>6</th>\n",
       "      <td>F</td>\n",
       "      <td>43</td>\n",
       "      <td>131281.50</td>\n",
       "      <td>Individuals</td>\n",
       "      <td>0</td>\n",
       "      <td>1</td>\n",
       "      <td>0</td>\n",
       "      <td>1</td>\n",
       "      <td>0</td>\n",
       "      <td>5022</td>\n",
       "    </tr>\n",
       "    <tr>\n",
       "      <th>116</th>\n",
       "      <td>F</td>\n",
       "      <td>43</td>\n",
       "      <td>165731.04</td>\n",
       "      <td>Individuals</td>\n",
       "      <td>0</td>\n",
       "      <td>1</td>\n",
       "      <td>0</td>\n",
       "      <td>3</td>\n",
       "      <td>0</td>\n",
       "      <td>5585</td>\n",
       "    </tr>\n",
       "    <tr>\n",
       "      <th>139</th>\n",
       "      <td>M</td>\n",
       "      <td>48</td>\n",
       "      <td>128821.86</td>\n",
       "      <td>Individuals</td>\n",
       "      <td>0</td>\n",
       "      <td>1</td>\n",
       "      <td>0</td>\n",
       "      <td>2</td>\n",
       "      <td>0</td>\n",
       "      <td>4996</td>\n",
       "    </tr>\n",
       "    <tr>\n",
       "      <th>140</th>\n",
       "      <td>F</td>\n",
       "      <td>74</td>\n",
       "      <td>113712.18</td>\n",
       "      <td>Individuals</td>\n",
       "      <td>0</td>\n",
       "      <td>1</td>\n",
       "      <td>0</td>\n",
       "      <td>1</td>\n",
       "      <td>0</td>\n",
       "      <td>7256</td>\n",
       "    </tr>\n",
       "    <tr>\n",
       "      <th>395</th>\n",
       "      <td>F</td>\n",
       "      <td>38</td>\n",
       "      <td>142501.29</td>\n",
       "      <td>Individuals</td>\n",
       "      <td>0</td>\n",
       "      <td>1</td>\n",
       "      <td>0</td>\n",
       "      <td>1</td>\n",
       "      <td>0</td>\n",
       "      <td>4241</td>\n",
       "    </tr>\n",
       "  </tbody>\n",
       "</table>\n",
       "</div>"
      ],
      "text/plain": [
       "    gender  age  gross_income      segment  num_credit_cards tiprel_1mes  \\\n",
       "6        F   43     131281.50  Individuals                 0           1   \n",
       "116      F   43     165731.04  Individuals                 0           1   \n",
       "139      M   48     128821.86  Individuals                 0           1   \n",
       "140      F   74     113712.18  Individuals                 0           1   \n",
       "395      F   38     142501.29  Individuals                 0           1   \n",
       "\n",
       "     ind_actividad_cliente  num_Products  num_loans  duration  \n",
       "6                        0             1          0      5022  \n",
       "116                      0             3          0      5585  \n",
       "139                      0             2          0      4996  \n",
       "140                      0             1          0      7256  \n",
       "395                      0             1          0      4241  "
      ]
     },
     "execution_count": 236,
     "metadata": {},
     "output_type": "execute_result"
    }
   ],
   "source": [
    "people_active_at_start_inactive_at_end.head()"
   ]
  },
  {
   "cell_type": "code",
   "execution_count": 237,
   "id": "c772b733-6595-4358-be7e-da7dd75945df",
   "metadata": {},
   "outputs": [
    {
     "data": {
      "text/plain": [
       "array([[<AxesSubplot:title={'center':'age'}>,\n",
       "        <AxesSubplot:title={'center':'gross_income'}>,\n",
       "        <AxesSubplot:title={'center':'num_credit_cards'}>],\n",
       "       [<AxesSubplot:title={'center':'ind_actividad_cliente'}>,\n",
       "        <AxesSubplot:title={'center':'num_Products'}>,\n",
       "        <AxesSubplot:title={'center':'num_loans'}>],\n",
       "       [<AxesSubplot:title={'center':'duration'}>, <AxesSubplot:>,\n",
       "        <AxesSubplot:>]], dtype=object)"
      ]
     },
     "execution_count": 237,
     "metadata": {},
     "output_type": "execute_result"
    },
    {
     "data": {
      "image/png": "[encoded data removed]",
      "text/plain": [
       "<Figure size 720x720 with 9 Axes>"
      ]
     },
     "metadata": {},
     "output_type": "display_data"
    }
   ],
   "source": [
    "people_active_at_start_inactive_at_end.hist(figsize=(10,10))"
   ]
  },
  {
   "cell_type": "markdown",
   "id": "bc0e4274-9887-4d2b-917b-51e22e09ee6b",
   "metadata": {},
   "source": [
    "### Task 2.5 - b _ Active at the start and active by the end :"
   ]
  },
  {
   "cell_type": "code",
   "execution_count": 238,
   "id": "5701319a-a9a9-474b-b063-1e0a35f4afac",
   "metadata": {},
   "outputs": [
    {
     "data": {
      "text/plain": [
       "array([[<AxesSubplot:title={'center':'age'}>,\n",
       "        <AxesSubplot:title={'center':'gross_income'}>,\n",
       "        <AxesSubplot:title={'center':'num_credit_cards'}>],\n",
       "       [<AxesSubplot:title={'center':'ind_actividad_cliente'}>,\n",
       "        <AxesSubplot:title={'center':'num_Products'}>,\n",
       "        <AxesSubplot:title={'center':'num_loans'}>],\n",
       "       [<AxesSubplot:title={'center':'duration'}>, <AxesSubplot:>,\n",
       "        <AxesSubplot:>]], dtype=object)"
      ]
     },
     "execution_count": 238,
     "metadata": {},
     "output_type": "execute_result"
    },
    {
     "data": {
      "image/png": "[encoded data removed]",
      "text/plain": [
       "<Figure size 720x720 with 9 Axes>"
      ]
     },
     "metadata": {},
     "output_type": "display_data"
    }
   ],
   "source": [
    "people_active_at_start_and_end.hist(figsize=(10,10))"
   ]
  },
  {
   "cell_type": "markdown",
   "id": "dc06f3aa-0302-4795-b63e-f96496c4324e",
   "metadata": {},
   "source": [
    "### Task 2.5 - c _ Inactive at the start but active at the end :"
   ]
  },
  {
   "cell_type": "code",
   "execution_count": 239,
   "id": "d7d897f2-ad6d-4ba0-9a02-bb1993a8c00d",
   "metadata": {},
   "outputs": [
    {
     "data": {
      "text/plain": [
       "array([[<AxesSubplot:title={'center':'age'}>,\n",
       "        <AxesSubplot:title={'center':'gross_income'}>,\n",
       "        <AxesSubplot:title={'center':'num_credit_cards'}>],\n",
       "       [<AxesSubplot:title={'center':'ind_actividad_cliente'}>,\n",
       "        <AxesSubplot:title={'center':'num_Products'}>,\n",
       "        <AxesSubplot:title={'center':'num_loans'}>],\n",
       "       [<AxesSubplot:title={'center':'duration'}>, <AxesSubplot:>,\n",
       "        <AxesSubplot:>]], dtype=object)"
      ]
     },
     "execution_count": 239,
     "metadata": {},
     "output_type": "execute_result"
    },
    {
     "data": {
      "image/png": "[encoded data removed]",
      "text/plain": [
       "<Figure size 720x720 with 9 Axes>"
      ]
     },
     "metadata": {},
     "output_type": "display_data"
    }
   ],
   "source": [
    "inactive_at_start_and_active_at_end_people.hist(figsize=(10,10))"
   ]
  },
  {
   "cell_type": "markdown",
   "id": "5c63b4d4-5a11-43bb-a696-e8bc9e9fe341",
   "metadata": {},
   "source": [
    "### Task 2.5 - d _ Inactive at the start and inactive at the end :"
   ]
  },
  {
   "cell_type": "code",
   "execution_count": 235,
   "id": "9eb071d7-8f09-4cb4-9c74-57d7812a1784",
   "metadata": {},
   "outputs": [
    {
     "data": {
      "text/plain": [
       "array([[<AxesSubplot:title={'center':'age'}>,\n",
       "        <AxesSubplot:title={'center':'gross_income'}>,\n",
       "        <AxesSubplot:title={'center':'num_credit_cards'}>],\n",
       "       [<AxesSubplot:title={'center':'ind_actividad_cliente'}>,\n",
       "        <AxesSubplot:title={'center':'num_Products'}>,\n",
       "        <AxesSubplot:title={'center':'num_loans'}>],\n",
       "       [<AxesSubplot:title={'center':'duration'}>, <AxesSubplot:>,\n",
       "        <AxesSubplot:>]], dtype=object)"
      ]
     },
     "execution_count": 235,
     "metadata": {},
     "output_type": "execute_result"
    },
    {
     "data": {
      "image/png": "[encoded data removed]",
      "text/plain": [
       "<Figure size 720x720 with 9 Axes>"
      ]
     },
     "metadata": {},
     "output_type": "display_data"
    }
   ],
   "source": [
    "people_inactive_at_start_and_end.hist(figsize=(10,10))"
   ]
  },
  {
   "cell_type": "markdown",
   "id": "0ffd1982-8efc-4a60-a30a-3ccb2c50bb9d",
   "metadata": {},
   "source": [
    "_________________________________________________\n",
    "\n",
    "### End of the Retention Analysis - Project - I\n",
    "_________________________________________________"
   ]
  },
  {
   "cell_type": "code",
   "execution_count": null,
   "id": "2b3d99f1-4fd1-4b16-9fd0-8245c0250463",
   "metadata": {},
   "outputs": [],
   "source": []
  },
  {
   "cell_type": "code",
   "execution_count": null,
   "id": "38bc99d2-5a4d-442c-88eb-5261b73b4b11",
   "metadata": {},
   "outputs": [],
   "source": []
  },
  {
   "cell_type": "code",
   "execution_count": null,
   "id": "f3a51fe9-8214-49b4-a005-e623bdb185ed",
   "metadata": {},
   "outputs": [],
   "source": []
  },
  {
   "cell_type": "code",
   "execution_count": null,
   "id": "b4e2fe5e-643e-4cc9-914c-fe492c35c519",
   "metadata": {},
   "outputs": [],
   "source": []
  }
 ],
 "metadata": {
  "kernelspec": {
   "display_name": "Python 3",
   "language": "python",
   "name": "python3"
  },
  "language_info": {
   "codemirror_mode": {
    "name": "ipython",
    "version": 3
   },
   "file_extension": ".py",
   "mimetype": "text/x-python",
   "name": "python",
   "nbconvert_exporter": "python",
   "pygments_lexer": "ipython3",
   "version": "3.8.8"
  }
 },
 "nbformat": 4,
 "nbformat_minor": 5
}
